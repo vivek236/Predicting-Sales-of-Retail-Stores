{
 "cells": [
  {
   "cell_type": "markdown",
   "id": "fdbd148d",
   "metadata": {
    "papermill": {
     "duration": 0.025287,
     "end_time": "2023-03-16T13:23:46.873119",
     "exception": false,
     "start_time": "2023-03-16T13:23:46.847832",
     "status": "completed"
    },
    "tags": []
   },
   "source": [
    "## Importing Libraries & Loading Data sets"
   ]
  },
  {
   "cell_type": "code",
   "execution_count": 1,
   "id": "e29b7166",
   "metadata": {
    "execution": {
     "iopub.execute_input": "2023-03-16T13:23:46.925401Z",
     "iopub.status.busy": "2023-03-16T13:23:46.924936Z",
     "iopub.status.idle": "2023-03-16T13:23:48.282836Z",
     "shell.execute_reply": "2023-03-16T13:23:48.280979Z"
    },
    "papermill": {
     "duration": 1.386292,
     "end_time": "2023-03-16T13:23:48.286060",
     "exception": false,
     "start_time": "2023-03-16T13:23:46.899768",
     "status": "completed"
    },
    "tags": []
   },
   "outputs": [],
   "source": [
    "import pandas as pd\n",
    "import numpy as np\n",
    "import matplotlib.pyplot as plt\n",
    "import seaborn as sns\n",
    "import warnings\n",
    "warnings.filterwarnings('ignore')\n",
    "import re"
   ]
  },
  {
   "cell_type": "code",
   "execution_count": 2,
   "id": "46ad14b7",
   "metadata": {
    "execution": {
     "iopub.execute_input": "2023-03-16T13:23:48.335707Z",
     "iopub.status.busy": "2023-03-16T13:23:48.334418Z",
     "iopub.status.idle": "2023-03-16T13:23:49.182038Z",
     "shell.execute_reply": "2023-03-16T13:23:49.180589Z"
    },
    "papermill": {
     "duration": 0.876327,
     "end_time": "2023-03-16T13:23:49.185499",
     "exception": false,
     "start_time": "2023-03-16T13:23:48.309172",
     "status": "completed"
    },
    "tags": []
   },
   "outputs": [],
   "source": [
    "train = pd.read_csv('/kaggle/input/predicting-the-sales-of-products-of-a-retail-chain/train_data.csv')\n",
    "test = pd.read_csv('/kaggle/input/predicting-the-sales-of-products-of-a-retail-chain/test_data.csv')\n",
    "date_week = pd.read_csv('/kaggle/input/predicting-the-sales-of-products-of-a-retail-chain/date_to_week_id_map.csv')\n",
    "product = pd.read_csv('/kaggle/input/predicting-the-sales-of-products-of-a-retail-chain/product_prices.csv')"
   ]
  },
  {
   "cell_type": "code",
   "execution_count": 3,
   "id": "7a000db1",
   "metadata": {
    "execution": {
     "iopub.execute_input": "2023-03-16T13:23:49.236688Z",
     "iopub.status.busy": "2023-03-16T13:23:49.236228Z",
     "iopub.status.idle": "2023-03-16T13:23:49.270612Z",
     "shell.execute_reply": "2023-03-16T13:23:49.269209Z"
    },
    "papermill": {
     "duration": 0.06438,
     "end_time": "2023-03-16T13:23:49.273882",
     "exception": false,
     "start_time": "2023-03-16T13:23:49.209502",
     "status": "completed"
    },
    "tags": []
   },
   "outputs": [
    {
     "data": {
      "text/html": [
       "<div>\n",
       "<style scoped>\n",
       "    .dataframe tbody tr th:only-of-type {\n",
       "        vertical-align: middle;\n",
       "    }\n",
       "\n",
       "    .dataframe tbody tr th {\n",
       "        vertical-align: top;\n",
       "    }\n",
       "\n",
       "    .dataframe thead th {\n",
       "        text-align: right;\n",
       "    }\n",
       "</style>\n",
       "<table border=\"1\" class=\"dataframe\">\n",
       "  <thead>\n",
       "    <tr style=\"text-align: right;\">\n",
       "      <th></th>\n",
       "      <th>date</th>\n",
       "      <th>product_identifier</th>\n",
       "      <th>department_identifier</th>\n",
       "      <th>category_of_product</th>\n",
       "      <th>outlet</th>\n",
       "      <th>state</th>\n",
       "      <th>sales</th>\n",
       "    </tr>\n",
       "  </thead>\n",
       "  <tbody>\n",
       "    <tr>\n",
       "      <th>0</th>\n",
       "      <td>2012-01-01</td>\n",
       "      <td>74</td>\n",
       "      <td>11</td>\n",
       "      <td>others</td>\n",
       "      <td>111</td>\n",
       "      <td>Maharashtra</td>\n",
       "      <td>0</td>\n",
       "    </tr>\n",
       "    <tr>\n",
       "      <th>1</th>\n",
       "      <td>2012-01-01</td>\n",
       "      <td>337</td>\n",
       "      <td>11</td>\n",
       "      <td>others</td>\n",
       "      <td>111</td>\n",
       "      <td>Maharashtra</td>\n",
       "      <td>1</td>\n",
       "    </tr>\n",
       "    <tr>\n",
       "      <th>2</th>\n",
       "      <td>2012-01-01</td>\n",
       "      <td>423</td>\n",
       "      <td>12</td>\n",
       "      <td>others</td>\n",
       "      <td>111</td>\n",
       "      <td>Maharashtra</td>\n",
       "      <td>0</td>\n",
       "    </tr>\n",
       "    <tr>\n",
       "      <th>3</th>\n",
       "      <td>2012-01-01</td>\n",
       "      <td>432</td>\n",
       "      <td>12</td>\n",
       "      <td>others</td>\n",
       "      <td>111</td>\n",
       "      <td>Maharashtra</td>\n",
       "      <td>0</td>\n",
       "    </tr>\n",
       "    <tr>\n",
       "      <th>4</th>\n",
       "      <td>2012-01-01</td>\n",
       "      <td>581</td>\n",
       "      <td>21</td>\n",
       "      <td>fast_moving_consumer_goods</td>\n",
       "      <td>111</td>\n",
       "      <td>Maharashtra</td>\n",
       "      <td>0</td>\n",
       "    </tr>\n",
       "  </tbody>\n",
       "</table>\n",
       "</div>"
      ],
      "text/plain": [
       "         date  product_identifier  department_identifier  \\\n",
       "0  2012-01-01                  74                     11   \n",
       "1  2012-01-01                 337                     11   \n",
       "2  2012-01-01                 423                     12   \n",
       "3  2012-01-01                 432                     12   \n",
       "4  2012-01-01                 581                     21   \n",
       "\n",
       "          category_of_product  outlet        state  sales  \n",
       "0                      others     111  Maharashtra      0  \n",
       "1                      others     111  Maharashtra      1  \n",
       "2                      others     111  Maharashtra      0  \n",
       "3                      others     111  Maharashtra      0  \n",
       "4  fast_moving_consumer_goods     111  Maharashtra      0  "
      ]
     },
     "execution_count": 3,
     "metadata": {},
     "output_type": "execute_result"
    }
   ],
   "source": [
    "train.head()\n"
   ]
  },
  {
   "cell_type": "code",
   "execution_count": 4,
   "id": "415f290a",
   "metadata": {
    "execution": {
     "iopub.execute_input": "2023-03-16T13:23:49.325631Z",
     "iopub.status.busy": "2023-03-16T13:23:49.324140Z",
     "iopub.status.idle": "2023-03-16T13:23:49.338403Z",
     "shell.execute_reply": "2023-03-16T13:23:49.337246Z"
    },
    "papermill": {
     "duration": 0.043202,
     "end_time": "2023-03-16T13:23:49.341335",
     "exception": false,
     "start_time": "2023-03-16T13:23:49.298133",
     "status": "completed"
    },
    "tags": []
   },
   "outputs": [
    {
     "data": {
      "text/html": [
       "<div>\n",
       "<style scoped>\n",
       "    .dataframe tbody tr th:only-of-type {\n",
       "        vertical-align: middle;\n",
       "    }\n",
       "\n",
       "    .dataframe tbody tr th {\n",
       "        vertical-align: top;\n",
       "    }\n",
       "\n",
       "    .dataframe thead th {\n",
       "        text-align: right;\n",
       "    }\n",
       "</style>\n",
       "<table border=\"1\" class=\"dataframe\">\n",
       "  <thead>\n",
       "    <tr style=\"text-align: right;\">\n",
       "      <th></th>\n",
       "      <th>id</th>\n",
       "      <th>date</th>\n",
       "      <th>product_identifier</th>\n",
       "      <th>department_identifier</th>\n",
       "      <th>category_of_product</th>\n",
       "      <th>outlet</th>\n",
       "      <th>state</th>\n",
       "    </tr>\n",
       "  </thead>\n",
       "  <tbody>\n",
       "    <tr>\n",
       "      <th>0</th>\n",
       "      <td>1</td>\n",
       "      <td>2014-03-01</td>\n",
       "      <td>74</td>\n",
       "      <td>11</td>\n",
       "      <td>others</td>\n",
       "      <td>111</td>\n",
       "      <td>Maharashtra</td>\n",
       "    </tr>\n",
       "    <tr>\n",
       "      <th>1</th>\n",
       "      <td>2</td>\n",
       "      <td>2014-03-01</td>\n",
       "      <td>337</td>\n",
       "      <td>11</td>\n",
       "      <td>others</td>\n",
       "      <td>111</td>\n",
       "      <td>Maharashtra</td>\n",
       "    </tr>\n",
       "    <tr>\n",
       "      <th>2</th>\n",
       "      <td>3</td>\n",
       "      <td>2014-03-01</td>\n",
       "      <td>423</td>\n",
       "      <td>12</td>\n",
       "      <td>others</td>\n",
       "      <td>111</td>\n",
       "      <td>Maharashtra</td>\n",
       "    </tr>\n",
       "    <tr>\n",
       "      <th>3</th>\n",
       "      <td>4</td>\n",
       "      <td>2014-03-01</td>\n",
       "      <td>432</td>\n",
       "      <td>12</td>\n",
       "      <td>others</td>\n",
       "      <td>111</td>\n",
       "      <td>Maharashtra</td>\n",
       "    </tr>\n",
       "    <tr>\n",
       "      <th>4</th>\n",
       "      <td>5</td>\n",
       "      <td>2014-03-01</td>\n",
       "      <td>581</td>\n",
       "      <td>21</td>\n",
       "      <td>fast_moving_consumer_goods</td>\n",
       "      <td>111</td>\n",
       "      <td>Maharashtra</td>\n",
       "    </tr>\n",
       "  </tbody>\n",
       "</table>\n",
       "</div>"
      ],
      "text/plain": [
       "   id        date  product_identifier  department_identifier  \\\n",
       "0   1  2014-03-01                  74                     11   \n",
       "1   2  2014-03-01                 337                     11   \n",
       "2   3  2014-03-01                 423                     12   \n",
       "3   4  2014-03-01                 432                     12   \n",
       "4   5  2014-03-01                 581                     21   \n",
       "\n",
       "          category_of_product  outlet        state  \n",
       "0                      others     111  Maharashtra  \n",
       "1                      others     111  Maharashtra  \n",
       "2                      others     111  Maharashtra  \n",
       "3                      others     111  Maharashtra  \n",
       "4  fast_moving_consumer_goods     111  Maharashtra  "
      ]
     },
     "execution_count": 4,
     "metadata": {},
     "output_type": "execute_result"
    }
   ],
   "source": [
    "test.head()"
   ]
  },
  {
   "cell_type": "code",
   "execution_count": 5,
   "id": "bbe83523",
   "metadata": {
    "execution": {
     "iopub.execute_input": "2023-03-16T13:23:49.392626Z",
     "iopub.status.busy": "2023-03-16T13:23:49.392190Z",
     "iopub.status.idle": "2023-03-16T13:23:49.426445Z",
     "shell.execute_reply": "2023-03-16T13:23:49.424284Z"
    },
    "papermill": {
     "duration": 0.063538,
     "end_time": "2023-03-16T13:23:49.429261",
     "exception": false,
     "start_time": "2023-03-16T13:23:49.365723",
     "status": "completed"
    },
    "tags": []
   },
   "outputs": [
    {
     "name": "stdout",
     "output_type": "stream",
     "text": [
      "<class 'pandas.core.frame.DataFrame'>\n",
      "RangeIndex: 15500 entries, 0 to 15499\n",
      "Data columns (total 7 columns):\n",
      " #   Column                 Non-Null Count  Dtype \n",
      "---  ------                 --------------  ----- \n",
      " 0   id                     15500 non-null  int64 \n",
      " 1   date                   15500 non-null  object\n",
      " 2   product_identifier     15500 non-null  int64 \n",
      " 3   department_identifier  15500 non-null  int64 \n",
      " 4   category_of_product    15500 non-null  object\n",
      " 5   outlet                 15500 non-null  int64 \n",
      " 6   state                  15500 non-null  object\n",
      "dtypes: int64(4), object(3)\n",
      "memory usage: 847.8+ KB\n"
     ]
    }
   ],
   "source": [
    "test.info()"
   ]
  },
  {
   "cell_type": "code",
   "execution_count": 6,
   "id": "bb67356d",
   "metadata": {
    "execution": {
     "iopub.execute_input": "2023-03-16T13:23:49.479983Z",
     "iopub.status.busy": "2023-03-16T13:23:49.479136Z",
     "iopub.status.idle": "2023-03-16T13:23:49.493885Z",
     "shell.execute_reply": "2023-03-16T13:23:49.492662Z"
    },
    "papermill": {
     "duration": 0.043107,
     "end_time": "2023-03-16T13:23:49.496502",
     "exception": false,
     "start_time": "2023-03-16T13:23:49.453395",
     "status": "completed"
    },
    "tags": []
   },
   "outputs": [
    {
     "name": "stdout",
     "output_type": "stream",
     "text": [
      "<class 'pandas.core.frame.DataFrame'>\n",
      "RangeIndex: 821 entries, 0 to 820\n",
      "Data columns (total 2 columns):\n",
      " #   Column   Non-Null Count  Dtype \n",
      "---  ------   --------------  ----- \n",
      " 0   date     821 non-null    object\n",
      " 1   week_id  821 non-null    int64 \n",
      "dtypes: int64(1), object(1)\n",
      "memory usage: 13.0+ KB\n"
     ]
    }
   ],
   "source": [
    "date_week.info()"
   ]
  },
  {
   "cell_type": "code",
   "execution_count": 7,
   "id": "6bb056e7",
   "metadata": {
    "execution": {
     "iopub.execute_input": "2023-03-16T13:23:49.547928Z",
     "iopub.status.busy": "2023-03-16T13:23:49.546827Z",
     "iopub.status.idle": "2023-03-16T13:23:49.560381Z",
     "shell.execute_reply": "2023-03-16T13:23:49.558663Z"
    },
    "papermill": {
     "duration": 0.042729,
     "end_time": "2023-03-16T13:23:49.563619",
     "exception": false,
     "start_time": "2023-03-16T13:23:49.520890",
     "status": "completed"
    },
    "tags": []
   },
   "outputs": [
    {
     "name": "stdout",
     "output_type": "stream",
     "text": [
      "<class 'pandas.core.frame.DataFrame'>\n",
      "RangeIndex: 59000 entries, 0 to 58999\n",
      "Data columns (total 4 columns):\n",
      " #   Column              Non-Null Count  Dtype  \n",
      "---  ------              --------------  -----  \n",
      " 0   outlet              59000 non-null  int64  \n",
      " 1   product_identifier  59000 non-null  int64  \n",
      " 2   week_id             59000 non-null  int64  \n",
      " 3   sell_price          59000 non-null  float64\n",
      "dtypes: float64(1), int64(3)\n",
      "memory usage: 1.8 MB\n"
     ]
    }
   ],
   "source": [
    "product.info()"
   ]
  },
  {
   "cell_type": "code",
   "execution_count": 8,
   "id": "2cd3e39b",
   "metadata": {
    "execution": {
     "iopub.execute_input": "2023-03-16T13:23:49.615104Z",
     "iopub.status.busy": "2023-03-16T13:23:49.614655Z",
     "iopub.status.idle": "2023-03-16T13:23:49.631048Z",
     "shell.execute_reply": "2023-03-16T13:23:49.629447Z"
    },
    "papermill": {
     "duration": 0.046024,
     "end_time": "2023-03-16T13:23:49.634441",
     "exception": false,
     "start_time": "2023-03-16T13:23:49.588417",
     "status": "completed"
    },
    "tags": []
   },
   "outputs": [
    {
     "name": "stdout",
     "output_type": "stream",
     "text": [
      "<class 'pandas.core.frame.DataFrame'>\n",
      "RangeIndex: 15500 entries, 0 to 15499\n",
      "Data columns (total 7 columns):\n",
      " #   Column                 Non-Null Count  Dtype \n",
      "---  ------                 --------------  ----- \n",
      " 0   id                     15500 non-null  int64 \n",
      " 1   date                   15500 non-null  object\n",
      " 2   product_identifier     15500 non-null  int64 \n",
      " 3   department_identifier  15500 non-null  int64 \n",
      " 4   category_of_product    15500 non-null  object\n",
      " 5   outlet                 15500 non-null  int64 \n",
      " 6   state                  15500 non-null  object\n",
      "dtypes: int64(4), object(3)\n",
      "memory usage: 847.8+ KB\n"
     ]
    }
   ],
   "source": [
    "test.info()"
   ]
  },
  {
   "cell_type": "code",
   "execution_count": 9,
   "id": "70266f61",
   "metadata": {
    "execution": {
     "iopub.execute_input": "2023-03-16T13:23:49.688922Z",
     "iopub.status.busy": "2023-03-16T13:23:49.688217Z",
     "iopub.status.idle": "2023-03-16T13:23:49.696959Z",
     "shell.execute_reply": "2023-03-16T13:23:49.695481Z"
    },
    "papermill": {
     "duration": 0.040172,
     "end_time": "2023-03-16T13:23:49.699876",
     "exception": false,
     "start_time": "2023-03-16T13:23:49.659704",
     "status": "completed"
    },
    "tags": []
   },
   "outputs": [
    {
     "data": {
      "text/plain": [
       "(395000, 7)"
      ]
     },
     "execution_count": 9,
     "metadata": {},
     "output_type": "execute_result"
    }
   ],
   "source": [
    "train.shape"
   ]
  },
  {
   "cell_type": "code",
   "execution_count": 10,
   "id": "b7922452",
   "metadata": {
    "execution": {
     "iopub.execute_input": "2023-03-16T13:23:49.750737Z",
     "iopub.status.busy": "2023-03-16T13:23:49.750225Z",
     "iopub.status.idle": "2023-03-16T13:23:49.759040Z",
     "shell.execute_reply": "2023-03-16T13:23:49.757614Z"
    },
    "papermill": {
     "duration": 0.037399,
     "end_time": "2023-03-16T13:23:49.761570",
     "exception": false,
     "start_time": "2023-03-16T13:23:49.724171",
     "status": "completed"
    },
    "tags": []
   },
   "outputs": [
    {
     "data": {
      "text/plain": [
       "(15500, 7)"
      ]
     },
     "execution_count": 10,
     "metadata": {},
     "output_type": "execute_result"
    }
   ],
   "source": [
    "test.shape"
   ]
  },
  {
   "cell_type": "code",
   "execution_count": 11,
   "id": "c538e658",
   "metadata": {
    "execution": {
     "iopub.execute_input": "2023-03-16T13:23:49.811379Z",
     "iopub.status.busy": "2023-03-16T13:23:49.810979Z",
     "iopub.status.idle": "2023-03-16T13:23:49.819225Z",
     "shell.execute_reply": "2023-03-16T13:23:49.817807Z"
    },
    "papermill": {
     "duration": 0.036404,
     "end_time": "2023-03-16T13:23:49.821890",
     "exception": false,
     "start_time": "2023-03-16T13:23:49.785486",
     "status": "completed"
    },
    "tags": []
   },
   "outputs": [
    {
     "data": {
      "text/plain": [
       "(821, 2)"
      ]
     },
     "execution_count": 11,
     "metadata": {},
     "output_type": "execute_result"
    }
   ],
   "source": [
    "date_week.shape"
   ]
  },
  {
   "cell_type": "code",
   "execution_count": 12,
   "id": "f1caa292",
   "metadata": {
    "execution": {
     "iopub.execute_input": "2023-03-16T13:23:49.873432Z",
     "iopub.status.busy": "2023-03-16T13:23:49.873044Z",
     "iopub.status.idle": "2023-03-16T13:23:49.880037Z",
     "shell.execute_reply": "2023-03-16T13:23:49.878775Z"
    },
    "papermill": {
     "duration": 0.035856,
     "end_time": "2023-03-16T13:23:49.882500",
     "exception": false,
     "start_time": "2023-03-16T13:23:49.846644",
     "status": "completed"
    },
    "tags": []
   },
   "outputs": [
    {
     "data": {
      "text/plain": [
       "(59000, 4)"
      ]
     },
     "execution_count": 12,
     "metadata": {},
     "output_type": "execute_result"
    }
   ],
   "source": [
    "product.shape"
   ]
  },
  {
   "cell_type": "markdown",
   "id": "de4d7b9f",
   "metadata": {
    "papermill": {
     "duration": 0.024221,
     "end_time": "2023-03-16T13:23:49.931401",
     "exception": false,
     "start_time": "2023-03-16T13:23:49.907180",
     "status": "completed"
    },
    "tags": []
   },
   "source": [
    "#### Merging Datasets "
   ]
  },
  {
   "cell_type": "code",
   "execution_count": 13,
   "id": "46df5854",
   "metadata": {
    "execution": {
     "iopub.execute_input": "2023-03-16T13:23:49.981850Z",
     "iopub.status.busy": "2023-03-16T13:23:49.981435Z",
     "iopub.status.idle": "2023-03-16T13:23:50.042006Z",
     "shell.execute_reply": "2023-03-16T13:23:50.040565Z"
    },
    "papermill": {
     "duration": 0.089281,
     "end_time": "2023-03-16T13:23:50.044932",
     "exception": false,
     "start_time": "2023-03-16T13:23:49.955651",
     "status": "completed"
    },
    "tags": []
   },
   "outputs": [],
   "source": [
    "# using inner merge function to merge product and date_week dataset on basis of week_id as it is common between them\n",
    "\n",
    "df1=pd.merge(product,date_week, on=['week_id'], how='inner')"
   ]
  },
  {
   "cell_type": "code",
   "execution_count": 14,
   "id": "1a3140f8",
   "metadata": {
    "execution": {
     "iopub.execute_input": "2023-03-16T13:23:50.095808Z",
     "iopub.status.busy": "2023-03-16T13:23:50.095253Z",
     "iopub.status.idle": "2023-03-16T13:23:50.109318Z",
     "shell.execute_reply": "2023-03-16T13:23:50.107872Z"
    },
    "papermill": {
     "duration": 0.043109,
     "end_time": "2023-03-16T13:23:50.112281",
     "exception": false,
     "start_time": "2023-03-16T13:23:50.069172",
     "status": "completed"
    },
    "tags": []
   },
   "outputs": [
    {
     "data": {
      "text/html": [
       "<div>\n",
       "<style scoped>\n",
       "    .dataframe tbody tr th:only-of-type {\n",
       "        vertical-align: middle;\n",
       "    }\n",
       "\n",
       "    .dataframe tbody tr th {\n",
       "        vertical-align: top;\n",
       "    }\n",
       "\n",
       "    .dataframe thead th {\n",
       "        text-align: right;\n",
       "    }\n",
       "</style>\n",
       "<table border=\"1\" class=\"dataframe\">\n",
       "  <thead>\n",
       "    <tr style=\"text-align: right;\">\n",
       "      <th></th>\n",
       "      <th>outlet</th>\n",
       "      <th>product_identifier</th>\n",
       "      <th>week_id</th>\n",
       "      <th>sell_price</th>\n",
       "      <th>date</th>\n",
       "    </tr>\n",
       "  </thead>\n",
       "  <tbody>\n",
       "    <tr>\n",
       "      <th>0</th>\n",
       "      <td>111</td>\n",
       "      <td>74</td>\n",
       "      <td>49</td>\n",
       "      <td>2.94</td>\n",
       "      <td>2012-01-01</td>\n",
       "    </tr>\n",
       "    <tr>\n",
       "      <th>1</th>\n",
       "      <td>111</td>\n",
       "      <td>74</td>\n",
       "      <td>49</td>\n",
       "      <td>2.94</td>\n",
       "      <td>2012-01-02</td>\n",
       "    </tr>\n",
       "    <tr>\n",
       "      <th>2</th>\n",
       "      <td>111</td>\n",
       "      <td>74</td>\n",
       "      <td>49</td>\n",
       "      <td>2.94</td>\n",
       "      <td>2012-01-03</td>\n",
       "    </tr>\n",
       "    <tr>\n",
       "      <th>3</th>\n",
       "      <td>111</td>\n",
       "      <td>74</td>\n",
       "      <td>49</td>\n",
       "      <td>2.94</td>\n",
       "      <td>2012-01-04</td>\n",
       "    </tr>\n",
       "    <tr>\n",
       "      <th>4</th>\n",
       "      <td>111</td>\n",
       "      <td>74</td>\n",
       "      <td>49</td>\n",
       "      <td>2.94</td>\n",
       "      <td>2012-01-05</td>\n",
       "    </tr>\n",
       "  </tbody>\n",
       "</table>\n",
       "</div>"
      ],
      "text/plain": [
       "   outlet  product_identifier  week_id  sell_price        date\n",
       "0     111                  74       49        2.94  2012-01-01\n",
       "1     111                  74       49        2.94  2012-01-02\n",
       "2     111                  74       49        2.94  2012-01-03\n",
       "3     111                  74       49        2.94  2012-01-04\n",
       "4     111                  74       49        2.94  2012-01-05"
      ]
     },
     "execution_count": 14,
     "metadata": {},
     "output_type": "execute_result"
    }
   ],
   "source": [
    "df1.head()"
   ]
  },
  {
   "cell_type": "code",
   "execution_count": 15,
   "id": "386744c8",
   "metadata": {
    "execution": {
     "iopub.execute_input": "2023-03-16T13:23:50.165860Z",
     "iopub.status.busy": "2023-03-16T13:23:50.165351Z",
     "iopub.status.idle": "2023-03-16T13:23:50.173032Z",
     "shell.execute_reply": "2023-03-16T13:23:50.171808Z"
    },
    "papermill": {
     "duration": 0.038086,
     "end_time": "2023-03-16T13:23:50.175386",
     "exception": false,
     "start_time": "2023-03-16T13:23:50.137300",
     "status": "completed"
    },
    "tags": []
   },
   "outputs": [
    {
     "data": {
      "text/plain": [
       "(410500, 5)"
      ]
     },
     "execution_count": 15,
     "metadata": {},
     "output_type": "execute_result"
    }
   ],
   "source": [
    "df1.shape"
   ]
  },
  {
   "cell_type": "code",
   "execution_count": 16,
   "id": "261a0a4e",
   "metadata": {
    "execution": {
     "iopub.execute_input": "2023-03-16T13:23:50.229172Z",
     "iopub.status.busy": "2023-03-16T13:23:50.228791Z",
     "iopub.status.idle": "2023-03-16T13:23:50.627329Z",
     "shell.execute_reply": "2023-03-16T13:23:50.625747Z"
    },
    "papermill": {
     "duration": 0.429218,
     "end_time": "2023-03-16T13:23:50.630745",
     "exception": false,
     "start_time": "2023-03-16T13:23:50.201527",
     "status": "completed"
    },
    "tags": []
   },
   "outputs": [
    {
     "name": "stdout",
     "output_type": "stream",
     "text": [
      "<class 'pandas.core.frame.DataFrame'>\n",
      "Int64Index: 395000 entries, 0 to 394999\n",
      "Data columns (total 9 columns):\n",
      " #   Column                 Non-Null Count   Dtype  \n",
      "---  ------                 --------------   -----  \n",
      " 0   date                   395000 non-null  object \n",
      " 1   product_identifier     395000 non-null  int64  \n",
      " 2   department_identifier  395000 non-null  int64  \n",
      " 3   category_of_product    395000 non-null  object \n",
      " 4   outlet                 395000 non-null  int64  \n",
      " 5   state                  395000 non-null  object \n",
      " 6   sales                  395000 non-null  int64  \n",
      " 7   week_id                395000 non-null  int64  \n",
      " 8   sell_price             395000 non-null  float64\n",
      "dtypes: float64(1), int64(5), object(3)\n",
      "memory usage: 30.1+ MB\n"
     ]
    }
   ],
   "source": [
    "# using inner merge function to merge train and df1 dataset on basis of date, product_identifier and outlet as it is common between them\n",
    "\n",
    "df=pd.merge(train,df1, on=['date','product_identifier','outlet'], how='inner')\n",
    "df.info()"
   ]
  },
  {
   "cell_type": "code",
   "execution_count": 17,
   "id": "b6bd3997",
   "metadata": {
    "execution": {
     "iopub.execute_input": "2023-03-16T13:23:50.684687Z",
     "iopub.status.busy": "2023-03-16T13:23:50.683165Z",
     "iopub.status.idle": "2023-03-16T13:23:50.772229Z",
     "shell.execute_reply": "2023-03-16T13:23:50.770520Z"
    },
    "papermill": {
     "duration": 0.118866,
     "end_time": "2023-03-16T13:23:50.775149",
     "exception": false,
     "start_time": "2023-03-16T13:23:50.656283",
     "status": "completed"
    },
    "tags": []
   },
   "outputs": [
    {
     "data": {
      "text/html": [
       "<div>\n",
       "<style scoped>\n",
       "    .dataframe tbody tr th:only-of-type {\n",
       "        vertical-align: middle;\n",
       "    }\n",
       "\n",
       "    .dataframe tbody tr th {\n",
       "        vertical-align: top;\n",
       "    }\n",
       "\n",
       "    .dataframe thead th {\n",
       "        text-align: right;\n",
       "    }\n",
       "</style>\n",
       "<table border=\"1\" class=\"dataframe\">\n",
       "  <thead>\n",
       "    <tr style=\"text-align: right;\">\n",
       "      <th></th>\n",
       "      <th>date</th>\n",
       "      <th>product_identifier</th>\n",
       "      <th>department_identifier</th>\n",
       "      <th>category_of_product</th>\n",
       "      <th>outlet</th>\n",
       "      <th>state</th>\n",
       "      <th>sales</th>\n",
       "      <th>week_id</th>\n",
       "      <th>sell_price</th>\n",
       "    </tr>\n",
       "  </thead>\n",
       "  <tbody>\n",
       "    <tr>\n",
       "      <th>288519</th>\n",
       "      <td>2013-07-31</td>\n",
       "      <td>1196</td>\n",
       "      <td>22</td>\n",
       "      <td>fast_moving_consumer_goods</td>\n",
       "      <td>111</td>\n",
       "      <td>Maharashtra</td>\n",
       "      <td>0</td>\n",
       "      <td>131</td>\n",
       "      <td>5.94</td>\n",
       "    </tr>\n",
       "    <tr>\n",
       "      <th>298187</th>\n",
       "      <td>2013-08-19</td>\n",
       "      <td>1753</td>\n",
       "      <td>31</td>\n",
       "      <td>drinks_and_food</td>\n",
       "      <td>114</td>\n",
       "      <td>Maharashtra</td>\n",
       "      <td>14</td>\n",
       "      <td>134</td>\n",
       "      <td>1.97</td>\n",
       "    </tr>\n",
       "    <tr>\n",
       "      <th>226892</th>\n",
       "      <td>2013-03-29</td>\n",
       "      <td>2794</td>\n",
       "      <td>33</td>\n",
       "      <td>drinks_and_food</td>\n",
       "      <td>331</td>\n",
       "      <td>Kerala</td>\n",
       "      <td>0</td>\n",
       "      <td>113</td>\n",
       "      <td>4.38</td>\n",
       "    </tr>\n",
       "    <tr>\n",
       "      <th>34715</th>\n",
       "      <td>2012-03-10</td>\n",
       "      <td>1054</td>\n",
       "      <td>21</td>\n",
       "      <td>fast_moving_consumer_goods</td>\n",
       "      <td>221</td>\n",
       "      <td>Telangana</td>\n",
       "      <td>5</td>\n",
       "      <td>59</td>\n",
       "      <td>2.97</td>\n",
       "    </tr>\n",
       "    <tr>\n",
       "      <th>200771</th>\n",
       "      <td>2013-02-05</td>\n",
       "      <td>1240</td>\n",
       "      <td>22</td>\n",
       "      <td>fast_moving_consumer_goods</td>\n",
       "      <td>222</td>\n",
       "      <td>Telangana</td>\n",
       "      <td>1</td>\n",
       "      <td>106</td>\n",
       "      <td>6.46</td>\n",
       "    </tr>\n",
       "  </tbody>\n",
       "</table>\n",
       "</div>"
      ],
      "text/plain": [
       "              date  product_identifier  department_identifier  \\\n",
       "288519  2013-07-31                1196                     22   \n",
       "298187  2013-08-19                1753                     31   \n",
       "226892  2013-03-29                2794                     33   \n",
       "34715   2012-03-10                1054                     21   \n",
       "200771  2013-02-05                1240                     22   \n",
       "\n",
       "               category_of_product  outlet        state  sales  week_id  \\\n",
       "288519  fast_moving_consumer_goods     111  Maharashtra      0      131   \n",
       "298187             drinks_and_food     114  Maharashtra     14      134   \n",
       "226892             drinks_and_food     331       Kerala      0      113   \n",
       "34715   fast_moving_consumer_goods     221    Telangana      5       59   \n",
       "200771  fast_moving_consumer_goods     222    Telangana      1      106   \n",
       "\n",
       "        sell_price  \n",
       "288519        5.94  \n",
       "298187        1.97  \n",
       "226892        4.38  \n",
       "34715         2.97  \n",
       "200771        6.46  "
      ]
     },
     "execution_count": 17,
     "metadata": {},
     "output_type": "execute_result"
    }
   ],
   "source": [
    "# getting random sample from the mearged dataset\n",
    "\n",
    "df.sample(5)"
   ]
  },
  {
   "cell_type": "code",
   "execution_count": 18,
   "id": "1d7e7d14",
   "metadata": {
    "execution": {
     "iopub.execute_input": "2023-03-16T13:23:50.827822Z",
     "iopub.status.busy": "2023-03-16T13:23:50.827334Z",
     "iopub.status.idle": "2023-03-16T13:23:50.914322Z",
     "shell.execute_reply": "2023-03-16T13:23:50.912741Z"
    },
    "papermill": {
     "duration": 0.117165,
     "end_time": "2023-03-16T13:23:50.917393",
     "exception": false,
     "start_time": "2023-03-16T13:23:50.800228",
     "status": "completed"
    },
    "tags": []
   },
   "outputs": [],
   "source": [
    "# using inner merge function to merge test_data and df1 dataset on basis of date, product_identifier and outlet \n",
    "# as it is common between them\n",
    "\n",
    "test_data = pd.merge(test,df1, on=['date','product_identifier','outlet'], how='inner')"
   ]
  },
  {
   "cell_type": "code",
   "execution_count": 19,
   "id": "02eddd29",
   "metadata": {
    "execution": {
     "iopub.execute_input": "2023-03-16T13:23:50.970526Z",
     "iopub.status.busy": "2023-03-16T13:23:50.970060Z",
     "iopub.status.idle": "2023-03-16T13:23:50.989695Z",
     "shell.execute_reply": "2023-03-16T13:23:50.988146Z"
    },
    "papermill": {
     "duration": 0.050229,
     "end_time": "2023-03-16T13:23:50.993068",
     "exception": false,
     "start_time": "2023-03-16T13:23:50.942839",
     "status": "completed"
    },
    "tags": []
   },
   "outputs": [
    {
     "name": "stdout",
     "output_type": "stream",
     "text": [
      "<class 'pandas.core.frame.DataFrame'>\n",
      "Int64Index: 15500 entries, 0 to 15499\n",
      "Data columns (total 9 columns):\n",
      " #   Column                 Non-Null Count  Dtype  \n",
      "---  ------                 --------------  -----  \n",
      " 0   id                     15500 non-null  int64  \n",
      " 1   date                   15500 non-null  object \n",
      " 2   product_identifier     15500 non-null  int64  \n",
      " 3   department_identifier  15500 non-null  int64  \n",
      " 4   category_of_product    15500 non-null  object \n",
      " 5   outlet                 15500 non-null  int64  \n",
      " 6   state                  15500 non-null  object \n",
      " 7   week_id                15500 non-null  int64  \n",
      " 8   sell_price             15500 non-null  float64\n",
      "dtypes: float64(1), int64(5), object(3)\n",
      "memory usage: 1.2+ MB\n"
     ]
    }
   ],
   "source": [
    "test_data.info()"
   ]
  },
  {
   "cell_type": "code",
   "execution_count": 20,
   "id": "67095918",
   "metadata": {
    "execution": {
     "iopub.execute_input": "2023-03-16T13:23:51.047144Z",
     "iopub.status.busy": "2023-03-16T13:23:51.046680Z",
     "iopub.status.idle": "2023-03-16T13:23:51.077637Z",
     "shell.execute_reply": "2023-03-16T13:23:51.076637Z"
    },
    "papermill": {
     "duration": 0.061526,
     "end_time": "2023-03-16T13:23:51.080198",
     "exception": false,
     "start_time": "2023-03-16T13:23:51.018672",
     "status": "completed"
    },
    "tags": []
   },
   "outputs": [
    {
     "data": {
      "text/html": [
       "<div>\n",
       "<style scoped>\n",
       "    .dataframe tbody tr th:only-of-type {\n",
       "        vertical-align: middle;\n",
       "    }\n",
       "\n",
       "    .dataframe tbody tr th {\n",
       "        vertical-align: top;\n",
       "    }\n",
       "\n",
       "    .dataframe thead th {\n",
       "        text-align: right;\n",
       "    }\n",
       "</style>\n",
       "<table border=\"1\" class=\"dataframe\">\n",
       "  <thead>\n",
       "    <tr style=\"text-align: right;\">\n",
       "      <th></th>\n",
       "      <th>date</th>\n",
       "      <th>product_identifier</th>\n",
       "      <th>department_identifier</th>\n",
       "      <th>category_of_product</th>\n",
       "      <th>outlet</th>\n",
       "      <th>state</th>\n",
       "      <th>sales</th>\n",
       "      <th>week_id</th>\n",
       "      <th>sell_price</th>\n",
       "    </tr>\n",
       "  </thead>\n",
       "  <tbody>\n",
       "    <tr>\n",
       "      <th>118230</th>\n",
       "      <td>2012-08-24</td>\n",
       "      <td>1542</td>\n",
       "      <td>22</td>\n",
       "      <td>fast_moving_consumer_goods</td>\n",
       "      <td>221</td>\n",
       "      <td>Telangana</td>\n",
       "      <td>0</td>\n",
       "      <td>82</td>\n",
       "      <td>24.92</td>\n",
       "    </tr>\n",
       "    <tr>\n",
       "      <th>277335</th>\n",
       "      <td>2013-07-08</td>\n",
       "      <td>1694</td>\n",
       "      <td>31</td>\n",
       "      <td>drinks_and_food</td>\n",
       "      <td>223</td>\n",
       "      <td>Telangana</td>\n",
       "      <td>0</td>\n",
       "      <td>128</td>\n",
       "      <td>1.97</td>\n",
       "    </tr>\n",
       "    <tr>\n",
       "      <th>236036</th>\n",
       "      <td>2013-04-17</td>\n",
       "      <td>1727</td>\n",
       "      <td>31</td>\n",
       "      <td>drinks_and_food</td>\n",
       "      <td>111</td>\n",
       "      <td>Maharashtra</td>\n",
       "      <td>0</td>\n",
       "      <td>116</td>\n",
       "      <td>2.24</td>\n",
       "    </tr>\n",
       "    <tr>\n",
       "      <th>129704</th>\n",
       "      <td>2012-09-16</td>\n",
       "      <td>581</td>\n",
       "      <td>21</td>\n",
       "      <td>fast_moving_consumer_goods</td>\n",
       "      <td>221</td>\n",
       "      <td>Telangana</td>\n",
       "      <td>1</td>\n",
       "      <td>86</td>\n",
       "      <td>4.87</td>\n",
       "    </tr>\n",
       "    <tr>\n",
       "      <th>292827</th>\n",
       "      <td>2013-08-08</td>\n",
       "      <td>1424</td>\n",
       "      <td>22</td>\n",
       "      <td>fast_moving_consumer_goods</td>\n",
       "      <td>223</td>\n",
       "      <td>Telangana</td>\n",
       "      <td>0</td>\n",
       "      <td>132</td>\n",
       "      <td>6.97</td>\n",
       "    </tr>\n",
       "  </tbody>\n",
       "</table>\n",
       "</div>"
      ],
      "text/plain": [
       "              date  product_identifier  department_identifier  \\\n",
       "118230  2012-08-24                1542                     22   \n",
       "277335  2013-07-08                1694                     31   \n",
       "236036  2013-04-17                1727                     31   \n",
       "129704  2012-09-16                 581                     21   \n",
       "292827  2013-08-08                1424                     22   \n",
       "\n",
       "               category_of_product  outlet        state  sales  week_id  \\\n",
       "118230  fast_moving_consumer_goods     221    Telangana      0       82   \n",
       "277335             drinks_and_food     223    Telangana      0      128   \n",
       "236036             drinks_and_food     111  Maharashtra      0      116   \n",
       "129704  fast_moving_consumer_goods     221    Telangana      1       86   \n",
       "292827  fast_moving_consumer_goods     223    Telangana      0      132   \n",
       "\n",
       "        sell_price  \n",
       "118230       24.92  \n",
       "277335        1.97  \n",
       "236036        2.24  \n",
       "129704        4.87  \n",
       "292827        6.97  "
      ]
     },
     "execution_count": 20,
     "metadata": {},
     "output_type": "execute_result"
    }
   ],
   "source": [
    "# getting random sample from the mearged dataset\n",
    "\n",
    "df.sample(5)"
   ]
  },
  {
   "cell_type": "markdown",
   "id": "1e812298",
   "metadata": {
    "papermill": {
     "duration": 0.027096,
     "end_time": "2023-03-16T13:23:51.134332",
     "exception": false,
     "start_time": "2023-03-16T13:23:51.107236",
     "status": "completed"
    },
    "tags": []
   },
   "source": [
    "### Gathering information about the dataset "
   ]
  },
  {
   "cell_type": "code",
   "execution_count": 21,
   "id": "3441afe5",
   "metadata": {
    "execution": {
     "iopub.execute_input": "2023-03-16T13:23:51.190114Z",
     "iopub.status.busy": "2023-03-16T13:23:51.189731Z",
     "iopub.status.idle": "2023-03-16T13:23:51.198201Z",
     "shell.execute_reply": "2023-03-16T13:23:51.196754Z"
    },
    "papermill": {
     "duration": 0.039308,
     "end_time": "2023-03-16T13:23:51.200755",
     "exception": false,
     "start_time": "2023-03-16T13:23:51.161447",
     "status": "completed"
    },
    "tags": []
   },
   "outputs": [
    {
     "data": {
      "text/plain": [
       "Index(['date', 'product_identifier', 'department_identifier',\n",
       "       'category_of_product', 'outlet', 'state', 'sales', 'week_id',\n",
       "       'sell_price'],\n",
       "      dtype='object')"
      ]
     },
     "execution_count": 21,
     "metadata": {},
     "output_type": "execute_result"
    }
   ],
   "source": [
    "df.columns"
   ]
  },
  {
   "cell_type": "code",
   "execution_count": 22,
   "id": "b9121cc7",
   "metadata": {
    "execution": {
     "iopub.execute_input": "2023-03-16T13:23:51.253766Z",
     "iopub.status.busy": "2023-03-16T13:23:51.253340Z",
     "iopub.status.idle": "2023-03-16T13:23:51.328397Z",
     "shell.execute_reply": "2023-03-16T13:23:51.326513Z"
    },
    "papermill": {
     "duration": 0.105135,
     "end_time": "2023-03-16T13:23:51.331558",
     "exception": false,
     "start_time": "2023-03-16T13:23:51.226423",
     "status": "completed"
    },
    "tags": []
   },
   "outputs": [
    {
     "name": "stdout",
     "output_type": "stream",
     "text": [
      "<class 'pandas.core.frame.DataFrame'>\n",
      "Int64Index: 395000 entries, 0 to 394999\n",
      "Data columns (total 9 columns):\n",
      " #   Column                 Non-Null Count   Dtype  \n",
      "---  ------                 --------------   -----  \n",
      " 0   date                   395000 non-null  object \n",
      " 1   product_identifier     395000 non-null  int64  \n",
      " 2   department_identifier  395000 non-null  int64  \n",
      " 3   category_of_product    395000 non-null  object \n",
      " 4   outlet                 395000 non-null  int64  \n",
      " 5   state                  395000 non-null  object \n",
      " 6   sales                  395000 non-null  int64  \n",
      " 7   week_id                395000 non-null  int64  \n",
      " 8   sell_price             395000 non-null  float64\n",
      "dtypes: float64(1), int64(5), object(3)\n",
      "memory usage: 30.1+ MB\n"
     ]
    }
   ],
   "source": [
    "# getting all the details of the data\n",
    "\n",
    "df.info()"
   ]
  },
  {
   "cell_type": "code",
   "execution_count": 23,
   "id": "16f5784a",
   "metadata": {
    "execution": {
     "iopub.execute_input": "2023-03-16T13:23:51.388455Z",
     "iopub.status.busy": "2023-03-16T13:23:51.386730Z",
     "iopub.status.idle": "2023-03-16T13:23:51.396207Z",
     "shell.execute_reply": "2023-03-16T13:23:51.394837Z"
    },
    "papermill": {
     "duration": 0.041067,
     "end_time": "2023-03-16T13:23:51.399203",
     "exception": false,
     "start_time": "2023-03-16T13:23:51.358136",
     "status": "completed"
    },
    "tags": []
   },
   "outputs": [
    {
     "data": {
      "text/plain": [
       "(395000, 9)"
      ]
     },
     "execution_count": 23,
     "metadata": {},
     "output_type": "execute_result"
    }
   ],
   "source": [
    "df.shape"
   ]
  },
  {
   "cell_type": "code",
   "execution_count": 24,
   "id": "480fa029",
   "metadata": {
    "execution": {
     "iopub.execute_input": "2023-03-16T13:23:51.454932Z",
     "iopub.status.busy": "2023-03-16T13:23:51.454487Z",
     "iopub.status.idle": "2023-03-16T13:23:51.525611Z",
     "shell.execute_reply": "2023-03-16T13:23:51.524002Z"
    },
    "papermill": {
     "duration": 0.102255,
     "end_time": "2023-03-16T13:23:51.528416",
     "exception": false,
     "start_time": "2023-03-16T13:23:51.426161",
     "status": "completed"
    },
    "tags": []
   },
   "outputs": [
    {
     "data": {
      "text/plain": [
       "date                     0\n",
       "product_identifier       0\n",
       "department_identifier    0\n",
       "category_of_product      0\n",
       "outlet                   0\n",
       "state                    0\n",
       "sales                    0\n",
       "week_id                  0\n",
       "sell_price               0\n",
       "dtype: int64"
      ]
     },
     "execution_count": 24,
     "metadata": {},
     "output_type": "execute_result"
    }
   ],
   "source": [
    "# Finding null values\n",
    "\n",
    "df.isnull().sum()"
   ]
  },
  {
   "cell_type": "markdown",
   "id": "b4f7400d",
   "metadata": {
    "papermill": {
     "duration": 0.026161,
     "end_time": "2023-03-16T13:23:51.580885",
     "exception": false,
     "start_time": "2023-03-16T13:23:51.554724",
     "status": "completed"
    },
    "tags": []
   },
   "source": [
    "    we can see that there is no null value present"
   ]
  },
  {
   "cell_type": "code",
   "execution_count": 25,
   "id": "ebf48f88",
   "metadata": {
    "execution": {
     "iopub.execute_input": "2023-03-16T13:23:51.637571Z",
     "iopub.status.busy": "2023-03-16T13:23:51.637082Z",
     "iopub.status.idle": "2023-03-16T13:23:51.759428Z",
     "shell.execute_reply": "2023-03-16T13:23:51.758351Z"
    },
    "papermill": {
     "duration": 0.153679,
     "end_time": "2023-03-16T13:23:51.762385",
     "exception": false,
     "start_time": "2023-03-16T13:23:51.608706",
     "status": "completed"
    },
    "tags": []
   },
   "outputs": [
    {
     "data": {
      "text/plain": [
       "date                     790\n",
       "product_identifier        50\n",
       "department_identifier      6\n",
       "category_of_product        3\n",
       "outlet                    10\n",
       "state                      3\n",
       "sales                    126\n",
       "week_id                  113\n",
       "sell_price               107\n",
       "dtype: int64"
      ]
     },
     "execution_count": 25,
     "metadata": {},
     "output_type": "execute_result"
    }
   ],
   "source": [
    "# finding unique values in each columns\n",
    "\n",
    "df.nunique()"
   ]
  },
  {
   "cell_type": "code",
   "execution_count": 26,
   "id": "e9e65545",
   "metadata": {
    "execution": {
     "iopub.execute_input": "2023-03-16T13:23:51.820172Z",
     "iopub.status.busy": "2023-03-16T13:23:51.819776Z",
     "iopub.status.idle": "2023-03-16T13:23:51.827560Z",
     "shell.execute_reply": "2023-03-16T13:23:51.826611Z"
    },
    "papermill": {
     "duration": 0.039733,
     "end_time": "2023-03-16T13:23:51.830072",
     "exception": false,
     "start_time": "2023-03-16T13:23:51.790339",
     "status": "completed"
    },
    "tags": []
   },
   "outputs": [
    {
     "data": {
      "text/plain": [
       "date                      object\n",
       "product_identifier         int64\n",
       "department_identifier      int64\n",
       "category_of_product       object\n",
       "outlet                     int64\n",
       "state                     object\n",
       "sales                      int64\n",
       "week_id                    int64\n",
       "sell_price               float64\n",
       "dtype: object"
      ]
     },
     "execution_count": 26,
     "metadata": {},
     "output_type": "execute_result"
    }
   ],
   "source": [
    "##.\tExplore the data types of each column.\n",
    "df.dtypes"
   ]
  },
  {
   "cell_type": "code",
   "execution_count": 27,
   "id": "701f9fe4",
   "metadata": {
    "execution": {
     "iopub.execute_input": "2023-03-16T13:23:51.887856Z",
     "iopub.status.busy": "2023-03-16T13:23:51.887370Z",
     "iopub.status.idle": "2023-03-16T13:23:52.052452Z",
     "shell.execute_reply": "2023-03-16T13:23:52.050994Z"
    },
    "papermill": {
     "duration": 0.197356,
     "end_time": "2023-03-16T13:23:52.055669",
     "exception": false,
     "start_time": "2023-03-16T13:23:51.858313",
     "status": "completed"
    },
    "tags": []
   },
   "outputs": [
    {
     "data": {
      "text/plain": [
       "0"
      ]
     },
     "execution_count": 27,
     "metadata": {},
     "output_type": "execute_result"
    }
   ],
   "source": [
    "# Checking Duplicate rows\n",
    "\n",
    "df.duplicated().sum()"
   ]
  },
  {
   "cell_type": "markdown",
   "id": "a66f9e76",
   "metadata": {
    "papermill": {
     "duration": 0.026638,
     "end_time": "2023-03-16T13:23:52.110232",
     "exception": false,
     "start_time": "2023-03-16T13:23:52.083594",
     "status": "completed"
    },
    "tags": []
   },
   "source": [
    "    there is no duplicate row present"
   ]
  },
  {
   "cell_type": "code",
   "execution_count": 28,
   "id": "cbf1fed3",
   "metadata": {
    "execution": {
     "iopub.execute_input": "2023-03-16T13:23:52.167199Z",
     "iopub.status.busy": "2023-03-16T13:23:52.165738Z",
     "iopub.status.idle": "2023-03-16T13:23:52.174616Z",
     "shell.execute_reply": "2023-03-16T13:23:52.173119Z"
    },
    "papermill": {
     "duration": 0.040094,
     "end_time": "2023-03-16T13:23:52.177308",
     "exception": false,
     "start_time": "2023-03-16T13:23:52.137214",
     "status": "completed"
    },
    "tags": []
   },
   "outputs": [
    {
     "data": {
      "text/plain": [
       "Index(['date', 'product_identifier', 'department_identifier',\n",
       "       'category_of_product', 'outlet', 'state', 'sales', 'week_id',\n",
       "       'sell_price'],\n",
       "      dtype='object')"
      ]
     },
     "execution_count": 28,
     "metadata": {},
     "output_type": "execute_result"
    }
   ],
   "source": [
    "df.columns"
   ]
  },
  {
   "cell_type": "markdown",
   "id": "7022b729",
   "metadata": {
    "papermill": {
     "duration": 0.027071,
     "end_time": "2023-03-16T13:23:52.233012",
     "exception": false,
     "start_time": "2023-03-16T13:23:52.205941",
     "status": "completed"
    },
    "tags": []
   },
   "source": [
    "## Data Visualization "
   ]
  },
  {
   "cell_type": "code",
   "execution_count": 29,
   "id": "6b5741d8",
   "metadata": {
    "execution": {
     "iopub.execute_input": "2023-03-16T13:23:52.289688Z",
     "iopub.status.busy": "2023-03-16T13:23:52.288977Z",
     "iopub.status.idle": "2023-03-16T13:23:52.383647Z",
     "shell.execute_reply": "2023-03-16T13:23:52.382254Z"
    },
    "papermill": {
     "duration": 0.126945,
     "end_time": "2023-03-16T13:23:52.386931",
     "exception": false,
     "start_time": "2023-03-16T13:23:52.259986",
     "status": "completed"
    },
    "tags": []
   },
   "outputs": [],
   "source": [
    "##converting  datatype from object as category\n",
    "col = ['category_of_product', 'state']\n",
    "df[col] = df[col].astype('category')"
   ]
  },
  {
   "cell_type": "code",
   "execution_count": 30,
   "id": "beb0e001",
   "metadata": {
    "execution": {
     "iopub.execute_input": "2023-03-16T13:23:52.442318Z",
     "iopub.status.busy": "2023-03-16T13:23:52.441893Z",
     "iopub.status.idle": "2023-03-16T13:23:52.450730Z",
     "shell.execute_reply": "2023-03-16T13:23:52.449602Z"
    },
    "papermill": {
     "duration": 0.039275,
     "end_time": "2023-03-16T13:23:52.453106",
     "exception": false,
     "start_time": "2023-03-16T13:23:52.413831",
     "status": "completed"
    },
    "tags": []
   },
   "outputs": [
    {
     "data": {
      "text/plain": [
       "date                       object\n",
       "product_identifier          int64\n",
       "department_identifier       int64\n",
       "category_of_product      category\n",
       "outlet                      int64\n",
       "state                    category\n",
       "sales                       int64\n",
       "week_id                     int64\n",
       "sell_price                float64\n",
       "dtype: object"
      ]
     },
     "execution_count": 30,
     "metadata": {},
     "output_type": "execute_result"
    }
   ],
   "source": [
    "##e.\tUnderstand if all the columns are in appropriate datatypes or not.\n",
    "df.dtypes"
   ]
  },
  {
   "cell_type": "markdown",
   "id": "ccb13d37",
   "metadata": {
    "papermill": {
     "duration": 0.026481,
     "end_time": "2023-03-16T13:23:52.507323",
     "exception": false,
     "start_time": "2023-03-16T13:23:52.480842",
     "status": "completed"
    },
    "tags": []
   },
   "source": [
    "### Univariate analysis For Categorical values"
   ]
  },
  {
   "cell_type": "markdown",
   "id": "f25c8080",
   "metadata": {
    "papermill": {
     "duration": 0.026503,
     "end_time": "2023-03-16T13:23:52.561019",
     "exception": false,
     "start_time": "2023-03-16T13:23:52.534516",
     "status": "completed"
    },
    "tags": []
   },
   "source": [
    "#### For column category of product "
   ]
  },
  {
   "cell_type": "code",
   "execution_count": 31,
   "id": "7a1ea8cb",
   "metadata": {
    "execution": {
     "iopub.execute_input": "2023-03-16T13:23:52.617782Z",
     "iopub.status.busy": "2023-03-16T13:23:52.617358Z",
     "iopub.status.idle": "2023-03-16T13:23:52.633590Z",
     "shell.execute_reply": "2023-03-16T13:23:52.632136Z"
    },
    "papermill": {
     "duration": 0.047931,
     "end_time": "2023-03-16T13:23:52.636595",
     "exception": false,
     "start_time": "2023-03-16T13:23:52.588664",
     "status": "completed"
    },
    "tags": []
   },
   "outputs": [
    {
     "data": {
      "text/plain": [
       "['others', 'fast_moving_consumer_goods', 'drinks_and_food']\n",
       "Categories (3, object): ['drinks_and_food', 'fast_moving_consumer_goods', 'others']"
      ]
     },
     "execution_count": 31,
     "metadata": {},
     "output_type": "execute_result"
    }
   ],
   "source": [
    "df[\"category_of_product\"].unique()"
   ]
  },
  {
   "cell_type": "code",
   "execution_count": 32,
   "id": "56920ced",
   "metadata": {
    "execution": {
     "iopub.execute_input": "2023-03-16T13:23:52.694084Z",
     "iopub.status.busy": "2023-03-16T13:23:52.693689Z",
     "iopub.status.idle": "2023-03-16T13:23:52.797586Z",
     "shell.execute_reply": "2023-03-16T13:23:52.795970Z"
    },
    "papermill": {
     "duration": 0.136032,
     "end_time": "2023-03-16T13:23:52.800531",
     "exception": false,
     "start_time": "2023-03-16T13:23:52.664499",
     "status": "completed"
    },
    "tags": []
   },
   "outputs": [
    {
     "name": "stdout",
     "output_type": "stream",
     "text": [
      "Total no of product sold form each category counts are :\n"
     ]
    },
    {
     "data": {
      "text/html": [
       "<style type=\"text/css\">\n",
       "#T_acdc8_row0_col0 {\n",
       "  background-color: #ffc77f;\n",
       "  color: #000000;\n",
       "}\n",
       "#T_acdc8_row1_col0 {\n",
       "  background-color: #a46842;\n",
       "  color: #f1f1f1;\n",
       "}\n",
       "#T_acdc8_row2_col0 {\n",
       "  background-color: #000000;\n",
       "  color: #f1f1f1;\n",
       "}\n",
       "</style>\n",
       "<table id=\"T_acdc8_\">\n",
       "  <thead>\n",
       "    <tr>\n",
       "      <th class=\"blank level0\" >&nbsp;</th>\n",
       "      <th class=\"col_heading level0 col0\" >category_of_product</th>\n",
       "    </tr>\n",
       "  </thead>\n",
       "  <tbody>\n",
       "    <tr>\n",
       "      <th id=\"T_acdc8_level0_row0\" class=\"row_heading level0 row0\" >fast_moving_consumer_goods</th>\n",
       "      <td id=\"T_acdc8_row0_col0\" class=\"data row0 col0\" >229100</td>\n",
       "    </tr>\n",
       "    <tr>\n",
       "      <th id=\"T_acdc8_level0_row1\" class=\"row_heading level0 row1\" >drinks_and_food</th>\n",
       "      <td id=\"T_acdc8_row1_col0\" class=\"data row1 col0\" >134300</td>\n",
       "    </tr>\n",
       "    <tr>\n",
       "      <th id=\"T_acdc8_level0_row2\" class=\"row_heading level0 row2\" >others</th>\n",
       "      <td id=\"T_acdc8_row2_col0\" class=\"data row2 col0\" >31600</td>\n",
       "    </tr>\n",
       "  </tbody>\n",
       "</table>\n"
      ],
      "text/plain": [
       "<pandas.io.formats.style.Styler at 0x7fb05fe40710>"
      ]
     },
     "execution_count": 32,
     "metadata": {},
     "output_type": "execute_result"
    }
   ],
   "source": [
    "print(\"Total no of product sold form each category counts are :\")\n",
    "\n",
    "df[\"category_of_product\"].value_counts().to_frame().style.background_gradient(cmap='copper')"
   ]
  },
  {
   "cell_type": "code",
   "execution_count": 33,
   "id": "91f8a19d",
   "metadata": {
    "execution": {
     "iopub.execute_input": "2023-03-16T13:23:52.857643Z",
     "iopub.status.busy": "2023-03-16T13:23:52.857135Z",
     "iopub.status.idle": "2023-03-16T13:23:53.172915Z",
     "shell.execute_reply": "2023-03-16T13:23:53.170698Z"
    },
    "papermill": {
     "duration": 0.348936,
     "end_time": "2023-03-16T13:23:53.176682",
     "exception": false,
     "start_time": "2023-03-16T13:23:52.827746",
     "status": "completed"
    },
    "tags": []
   },
   "outputs": [
    {
     "data": {
      "image/png": "[encoded data removed]",
      "text/plain": [
       "<Figure size 640x480 with 1 Axes>"
      ]
     },
     "metadata": {},
     "output_type": "display_data"
    }
   ],
   "source": [
    "df[\"category_of_product\"].value_counts().plot(kind = \"bar\",cmap='flag')\n",
    "plt.title('category_of_product',fontsize=15)\n",
    "plt.show()"
   ]
  },
  {
   "cell_type": "markdown",
   "id": "f1152c4f",
   "metadata": {
    "papermill": {
     "duration": 0.026657,
     "end_time": "2023-03-16T13:23:53.236417",
     "exception": false,
     "start_time": "2023-03-16T13:23:53.209760",
     "status": "completed"
    },
    "tags": []
   },
   "source": [
    "    From this visuals we can see that fast_moving_consumer_goods has the maximum no of product sold  with 229100 followed by drinks_and_food"
   ]
  },
  {
   "cell_type": "markdown",
   "id": "3e4b3e06",
   "metadata": {
    "papermill": {
     "duration": 0.026543,
     "end_time": "2023-03-16T13:23:53.290496",
     "exception": false,
     "start_time": "2023-03-16T13:23:53.263953",
     "status": "completed"
    },
    "tags": []
   },
   "source": [
    "#### For column State :- "
   ]
  },
  {
   "cell_type": "code",
   "execution_count": 34,
   "id": "02884f5a",
   "metadata": {
    "execution": {
     "iopub.execute_input": "2023-03-16T13:23:53.349108Z",
     "iopub.status.busy": "2023-03-16T13:23:53.348599Z",
     "iopub.status.idle": "2023-03-16T13:23:53.358253Z",
     "shell.execute_reply": "2023-03-16T13:23:53.357277Z"
    },
    "papermill": {
     "duration": 0.04259,
     "end_time": "2023-03-16T13:23:53.360878",
     "exception": false,
     "start_time": "2023-03-16T13:23:53.318288",
     "status": "completed"
    },
    "tags": []
   },
   "outputs": [
    {
     "data": {
      "text/plain": [
       "3"
      ]
     },
     "execution_count": 34,
     "metadata": {},
     "output_type": "execute_result"
    }
   ],
   "source": [
    "df[\"state\"].nunique()"
   ]
  },
  {
   "cell_type": "code",
   "execution_count": 35,
   "id": "fccf797e",
   "metadata": {
    "execution": {
     "iopub.execute_input": "2023-03-16T13:23:53.418126Z",
     "iopub.status.busy": "2023-03-16T13:23:53.417707Z",
     "iopub.status.idle": "2023-03-16T13:23:53.429137Z",
     "shell.execute_reply": "2023-03-16T13:23:53.428100Z"
    },
    "papermill": {
     "duration": 0.043367,
     "end_time": "2023-03-16T13:23:53.431792",
     "exception": false,
     "start_time": "2023-03-16T13:23:53.388425",
     "status": "completed"
    },
    "tags": []
   },
   "outputs": [
    {
     "data": {
      "text/plain": [
       "['Maharashtra', 'Telangana', 'Kerala']\n",
       "Categories (3, object): ['Kerala', 'Maharashtra', 'Telangana']"
      ]
     },
     "execution_count": 35,
     "metadata": {},
     "output_type": "execute_result"
    }
   ],
   "source": [
    "df[\"state\"].unique()"
   ]
  },
  {
   "cell_type": "code",
   "execution_count": 36,
   "id": "7162e7dc",
   "metadata": {
    "execution": {
     "iopub.execute_input": "2023-03-16T13:23:53.488948Z",
     "iopub.status.busy": "2023-03-16T13:23:53.487912Z",
     "iopub.status.idle": "2023-03-16T13:23:53.513371Z",
     "shell.execute_reply": "2023-03-16T13:23:53.511909Z"
    },
    "papermill": {
     "duration": 0.05684,
     "end_time": "2023-03-16T13:23:53.516242",
     "exception": false,
     "start_time": "2023-03-16T13:23:53.459402",
     "status": "completed"
    },
    "tags": []
   },
   "outputs": [
    {
     "name": "stdout",
     "output_type": "stream",
     "text": [
      "Total no of product sold form each state counts are :\n"
     ]
    },
    {
     "data": {
      "text/html": [
       "<style type=\"text/css\">\n",
       "#T_49e98_row0_col0 {\n",
       "  background-color: #ffc77f;\n",
       "  color: #000000;\n",
       "}\n",
       "#T_49e98_row1_col0, #T_49e98_row2_col0 {\n",
       "  background-color: #000000;\n",
       "  color: #f1f1f1;\n",
       "}\n",
       "</style>\n",
       "<table id=\"T_49e98_\">\n",
       "  <thead>\n",
       "    <tr>\n",
       "      <th class=\"blank level0\" >&nbsp;</th>\n",
       "      <th class=\"col_heading level0 col0\" >state</th>\n",
       "    </tr>\n",
       "  </thead>\n",
       "  <tbody>\n",
       "    <tr>\n",
       "      <th id=\"T_49e98_level0_row0\" class=\"row_heading level0 row0\" >Maharashtra</th>\n",
       "      <td id=\"T_49e98_row0_col0\" class=\"data row0 col0\" >158000</td>\n",
       "    </tr>\n",
       "    <tr>\n",
       "      <th id=\"T_49e98_level0_row1\" class=\"row_heading level0 row1\" >Kerala</th>\n",
       "      <td id=\"T_49e98_row1_col0\" class=\"data row1 col0\" >118500</td>\n",
       "    </tr>\n",
       "    <tr>\n",
       "      <th id=\"T_49e98_level0_row2\" class=\"row_heading level0 row2\" >Telangana</th>\n",
       "      <td id=\"T_49e98_row2_col0\" class=\"data row2 col0\" >118500</td>\n",
       "    </tr>\n",
       "  </tbody>\n",
       "</table>\n"
      ],
      "text/plain": [
       "<pandas.io.formats.style.Styler at 0x7fb05fefaa50>"
      ]
     },
     "execution_count": 36,
     "metadata": {},
     "output_type": "execute_result"
    }
   ],
   "source": [
    "print(\"Total no of product sold form each state counts are :\")\n",
    "\n",
    "df[\"state\"].value_counts().to_frame().style.background_gradient(cmap='copper')"
   ]
  },
  {
   "cell_type": "code",
   "execution_count": 37,
   "id": "cc614316",
   "metadata": {
    "execution": {
     "iopub.execute_input": "2023-03-16T13:23:53.578134Z",
     "iopub.status.busy": "2023-03-16T13:23:53.577602Z",
     "iopub.status.idle": "2023-03-16T13:23:53.801761Z",
     "shell.execute_reply": "2023-03-16T13:23:53.799951Z"
    },
    "papermill": {
     "duration": 0.258793,
     "end_time": "2023-03-16T13:23:53.805041",
     "exception": false,
     "start_time": "2023-03-16T13:23:53.546248",
     "status": "completed"
    },
    "tags": []
   },
   "outputs": [
    {
     "data": {
      "image/png": "[encoded data removed]",
      "text/plain": [
       "<Figure size 640x480 with 1 Axes>"
      ]
     },
     "metadata": {},
     "output_type": "display_data"
    }
   ],
   "source": [
    "df[\"state\"].value_counts().plot(kind = \"bar\",cmap='flag')\n",
    "plt.title('state',fontsize=15)\n",
    "plt.show()"
   ]
  },
  {
   "cell_type": "markdown",
   "id": "689b9b05",
   "metadata": {
    "papermill": {
     "duration": 0.02777,
     "end_time": "2023-03-16T13:23:53.862253",
     "exception": false,
     "start_time": "2023-03-16T13:23:53.834483",
     "status": "completed"
    },
    "tags": []
   },
   "source": [
    "From this visuals we can see that Maharashtra has the maximum no of product sold  with 15800 followed by Telangana and Kerala with same no"
   ]
  },
  {
   "cell_type": "markdown",
   "id": "4ec90972",
   "metadata": {
    "papermill": {
     "duration": 0.028666,
     "end_time": "2023-03-16T13:23:53.919477",
     "exception": false,
     "start_time": "2023-03-16T13:23:53.890811",
     "status": "completed"
    },
    "tags": []
   },
   "source": [
    "### Univariate analysis For Numerical Features "
   ]
  },
  {
   "cell_type": "code",
   "execution_count": 38,
   "id": "63a0d123",
   "metadata": {
    "execution": {
     "iopub.execute_input": "2023-03-16T13:23:53.981034Z",
     "iopub.status.busy": "2023-03-16T13:23:53.979459Z",
     "iopub.status.idle": "2023-03-16T13:23:54.090472Z",
     "shell.execute_reply": "2023-03-16T13:23:54.089138Z"
    },
    "papermill": {
     "duration": 0.144399,
     "end_time": "2023-03-16T13:23:54.093226",
     "exception": false,
     "start_time": "2023-03-16T13:23:53.948827",
     "status": "completed"
    },
    "tags": []
   },
   "outputs": [
    {
     "data": {
      "text/html": [
       "<div>\n",
       "<style scoped>\n",
       "    .dataframe tbody tr th:only-of-type {\n",
       "        vertical-align: middle;\n",
       "    }\n",
       "\n",
       "    .dataframe tbody tr th {\n",
       "        vertical-align: top;\n",
       "    }\n",
       "\n",
       "    .dataframe thead th {\n",
       "        text-align: right;\n",
       "    }\n",
       "</style>\n",
       "<table border=\"1\" class=\"dataframe\">\n",
       "  <thead>\n",
       "    <tr style=\"text-align: right;\">\n",
       "      <th></th>\n",
       "      <th>product_identifier</th>\n",
       "      <th>department_identifier</th>\n",
       "      <th>outlet</th>\n",
       "      <th>sales</th>\n",
       "      <th>week_id</th>\n",
       "      <th>sell_price</th>\n",
       "    </tr>\n",
       "  </thead>\n",
       "  <tbody>\n",
       "    <tr>\n",
       "      <th>count</th>\n",
       "      <td>395000.000000</td>\n",
       "      <td>395000.000000</td>\n",
       "      <td>395000.000000</td>\n",
       "      <td>395000.000000</td>\n",
       "      <td>395000.000000</td>\n",
       "      <td>395000.000000</td>\n",
       "    </tr>\n",
       "    <tr>\n",
       "      <th>mean</th>\n",
       "      <td>1509.960000</td>\n",
       "      <td>24.460000</td>\n",
       "      <td>211.200000</td>\n",
       "      <td>1.228919</td>\n",
       "      <td>105.070886</td>\n",
       "      <td>4.987644</td>\n",
       "    </tr>\n",
       "    <tr>\n",
       "      <th>std</th>\n",
       "      <td>809.799518</td>\n",
       "      <td>6.337863</td>\n",
       "      <td>91.161291</td>\n",
       "      <td>3.595266</td>\n",
       "      <td>32.578749</td>\n",
       "      <td>3.874444</td>\n",
       "    </tr>\n",
       "    <tr>\n",
       "      <th>min</th>\n",
       "      <td>74.000000</td>\n",
       "      <td>11.000000</td>\n",
       "      <td>111.000000</td>\n",
       "      <td>0.000000</td>\n",
       "      <td>49.000000</td>\n",
       "      <td>0.050000</td>\n",
       "    </tr>\n",
       "    <tr>\n",
       "      <th>25%</th>\n",
       "      <td>926.000000</td>\n",
       "      <td>21.000000</td>\n",
       "      <td>113.000000</td>\n",
       "      <td>0.000000</td>\n",
       "      <td>77.000000</td>\n",
       "      <td>2.680000</td>\n",
       "    </tr>\n",
       "    <tr>\n",
       "      <th>50%</th>\n",
       "      <td>1325.000000</td>\n",
       "      <td>22.000000</td>\n",
       "      <td>221.500000</td>\n",
       "      <td>0.000000</td>\n",
       "      <td>105.000000</td>\n",
       "      <td>3.980000</td>\n",
       "    </tr>\n",
       "    <tr>\n",
       "      <th>75%</th>\n",
       "      <td>1753.000000</td>\n",
       "      <td>31.000000</td>\n",
       "      <td>331.000000</td>\n",
       "      <td>1.000000</td>\n",
       "      <td>133.000000</td>\n",
       "      <td>6.480000</td>\n",
       "    </tr>\n",
       "    <tr>\n",
       "      <th>max</th>\n",
       "      <td>3021.000000</td>\n",
       "      <td>33.000000</td>\n",
       "      <td>333.000000</td>\n",
       "      <td>293.000000</td>\n",
       "      <td>161.000000</td>\n",
       "      <td>44.360000</td>\n",
       "    </tr>\n",
       "  </tbody>\n",
       "</table>\n",
       "</div>"
      ],
      "text/plain": [
       "       product_identifier  department_identifier         outlet  \\\n",
       "count       395000.000000          395000.000000  395000.000000   \n",
       "mean          1509.960000              24.460000     211.200000   \n",
       "std            809.799518               6.337863      91.161291   \n",
       "min             74.000000              11.000000     111.000000   \n",
       "25%            926.000000              21.000000     113.000000   \n",
       "50%           1325.000000              22.000000     221.500000   \n",
       "75%           1753.000000              31.000000     331.000000   \n",
       "max           3021.000000              33.000000     333.000000   \n",
       "\n",
       "               sales        week_id     sell_price  \n",
       "count  395000.000000  395000.000000  395000.000000  \n",
       "mean        1.228919     105.070886       4.987644  \n",
       "std         3.595266      32.578749       3.874444  \n",
       "min         0.000000      49.000000       0.050000  \n",
       "25%         0.000000      77.000000       2.680000  \n",
       "50%         0.000000     105.000000       3.980000  \n",
       "75%         1.000000     133.000000       6.480000  \n",
       "max       293.000000     161.000000      44.360000  "
      ]
     },
     "execution_count": 38,
     "metadata": {},
     "output_type": "execute_result"
    }
   ],
   "source": [
    "# getting description about the numerical features\n",
    "\n",
    "df.describe()"
   ]
  },
  {
   "cell_type": "markdown",
   "id": "fe2bd3d1",
   "metadata": {
    "papermill": {
     "duration": 0.029023,
     "end_time": "2023-03-16T13:23:54.151647",
     "exception": false,
     "start_time": "2023-03-16T13:23:54.122624",
     "status": "completed"
    },
    "tags": []
   },
   "source": [
    "####  For \tproduct_identifier :-"
   ]
  },
  {
   "cell_type": "code",
   "execution_count": 39,
   "id": "dfdbf645",
   "metadata": {
    "execution": {
     "iopub.execute_input": "2023-03-16T13:23:54.214028Z",
     "iopub.status.busy": "2023-03-16T13:23:54.212325Z",
     "iopub.status.idle": "2023-03-16T13:23:56.137690Z",
     "shell.execute_reply": "2023-03-16T13:23:56.135950Z"
    },
    "papermill": {
     "duration": 1.960154,
     "end_time": "2023-03-16T13:23:56.140968",
     "exception": false,
     "start_time": "2023-03-16T13:23:54.180814",
     "status": "completed"
    },
    "tags": []
   },
   "outputs": [
    {
     "data": {
      "text/plain": [
       "<AxesSubplot:xlabel='product_identifier', ylabel='Density'>"
      ]
     },
     "execution_count": 39,
     "metadata": {},
     "output_type": "execute_result"
    },
    {
     "data": {
      "image/png": "[encoded data removed]",
      "text/plain": [
       "<Figure size 1000x500 with 1 Axes>"
      ]
     },
     "metadata": {},
     "output_type": "display_data"
    }
   ],
   "source": [
    "#checking the distribution of data\n",
    "\n",
    "plt.figure(figsize = (10,5))\n",
    "sns.distplot(df['product_identifier'])"
   ]
  },
  {
   "cell_type": "code",
   "execution_count": 40,
   "id": "6eec23b3",
   "metadata": {
    "execution": {
     "iopub.execute_input": "2023-03-16T13:23:56.205798Z",
     "iopub.status.busy": "2023-03-16T13:23:56.205202Z",
     "iopub.status.idle": "2023-03-16T13:23:56.528140Z",
     "shell.execute_reply": "2023-03-16T13:23:56.526565Z"
    },
    "papermill": {
     "duration": 0.359431,
     "end_time": "2023-03-16T13:23:56.531593",
     "exception": false,
     "start_time": "2023-03-16T13:23:56.172162",
     "status": "completed"
    },
    "tags": []
   },
   "outputs": [
    {
     "data": {
      "text/plain": [
       "<AxesSubplot:>"
      ]
     },
     "execution_count": 40,
     "metadata": {},
     "output_type": "execute_result"
    },
    {
     "data": {
      "image/png": "[encoded data removed]",
      "text/plain": [
       "<Figure size 1000x500 with 1 Axes>"
      ]
     },
     "metadata": {},
     "output_type": "display_data"
    }
   ],
   "source": [
    "# Finding outliers trough graph\n",
    "\n",
    "plt.figure(figsize = (10,5))\n",
    "sns.boxplot(df['product_identifier'])"
   ]
  },
  {
   "cell_type": "markdown",
   "id": "96ffdfc1",
   "metadata": {
    "papermill": {
     "duration": 0.030688,
     "end_time": "2023-03-16T13:23:56.593341",
     "exception": false,
     "start_time": "2023-03-16T13:23:56.562653",
     "status": "completed"
    },
    "tags": []
   },
   "source": [
    "    From this visual we can see that there is outlaies present"
   ]
  },
  {
   "cell_type": "code",
   "execution_count": 41,
   "id": "421c3dcd",
   "metadata": {
    "execution": {
     "iopub.execute_input": "2023-03-16T13:23:56.658299Z",
     "iopub.status.busy": "2023-03-16T13:23:56.657881Z",
     "iopub.status.idle": "2023-03-16T13:23:56.679846Z",
     "shell.execute_reply": "2023-03-16T13:23:56.678478Z"
    },
    "papermill": {
     "duration": 0.057565,
     "end_time": "2023-03-16T13:23:56.682608",
     "exception": false,
     "start_time": "2023-03-16T13:23:56.625043",
     "status": "completed"
    },
    "tags": []
   },
   "outputs": [
    {
     "data": {
      "text/plain": [
       "827.0"
      ]
     },
     "execution_count": 41,
     "metadata": {},
     "output_type": "execute_result"
    }
   ],
   "source": [
    "## calculating inter quantile range\n",
    "Q3 = df.product_identifier.quantile(0.75)\n",
    "Q1 = df.product_identifier.quantile(0.25)\n",
    "IQR = Q3 - Q1\n",
    "IQR"
   ]
  },
  {
   "cell_type": "code",
   "execution_count": 42,
   "id": "d14803ea",
   "metadata": {
    "execution": {
     "iopub.execute_input": "2023-03-16T13:23:56.747809Z",
     "iopub.status.busy": "2023-03-16T13:23:56.746429Z",
     "iopub.status.idle": "2023-03-16T13:23:56.756056Z",
     "shell.execute_reply": "2023-03-16T13:23:56.755020Z"
    },
    "papermill": {
     "duration": 0.045755,
     "end_time": "2023-03-16T13:23:56.759820",
     "exception": false,
     "start_time": "2023-03-16T13:23:56.714065",
     "status": "completed"
    },
    "tags": []
   },
   "outputs": [
    {
     "name": "stdout",
     "output_type": "stream",
     "text": [
      "Upper Bound: 2993.5\n",
      "Lower Bound: -314.5\n"
     ]
    }
   ],
   "source": [
    "# Above Upper bound\n",
    "\n",
    "upper=Q3+1.5*IQR\n",
    "upper_array=np.array(df['product_identifier']>=upper)\n",
    "print(\"Upper Bound:\",upper)\n",
    "\n",
    "#Below Lower bound\n",
    "\n",
    "lower=Q1-1.5*IQR\n",
    "lower_array=np.array(df['product_identifier']<=lower)\n",
    "print(\"Lower Bound:\",lower)"
   ]
  },
  {
   "cell_type": "code",
   "execution_count": 43,
   "id": "e3d5fda0",
   "metadata": {
    "execution": {
     "iopub.execute_input": "2023-03-16T13:23:56.823999Z",
     "iopub.status.busy": "2023-03-16T13:23:56.823098Z",
     "iopub.status.idle": "2023-03-16T13:23:56.838238Z",
     "shell.execute_reply": "2023-03-16T13:23:56.837105Z"
    },
    "papermill": {
     "duration": 0.049296,
     "end_time": "2023-03-16T13:23:56.841028",
     "exception": false,
     "start_time": "2023-03-16T13:23:56.791732",
     "status": "completed"
    },
    "tags": []
   },
   "outputs": [],
   "source": [
    "# Replacing outliers with null values\n",
    "\n",
    "df['product_identifier'] = np.where(df['product_identifier']>=3000, np.nan, df['product_identifier'])"
   ]
  },
  {
   "cell_type": "code",
   "execution_count": 44,
   "id": "d61a18c0",
   "metadata": {
    "execution": {
     "iopub.execute_input": "2023-03-16T13:23:56.904570Z",
     "iopub.status.busy": "2023-03-16T13:23:56.903875Z",
     "iopub.status.idle": "2023-03-16T13:23:56.916347Z",
     "shell.execute_reply": "2023-03-16T13:23:56.914672Z"
    },
    "papermill": {
     "duration": 0.048434,
     "end_time": "2023-03-16T13:23:56.919327",
     "exception": false,
     "start_time": "2023-03-16T13:23:56.870893",
     "status": "completed"
    },
    "tags": []
   },
   "outputs": [
    {
     "data": {
      "text/plain": [
       "23700"
      ]
     },
     "execution_count": 44,
     "metadata": {},
     "output_type": "execute_result"
    }
   ],
   "source": [
    "df['product_identifier'].isnull().sum()"
   ]
  },
  {
   "cell_type": "markdown",
   "id": "2fc22e56",
   "metadata": {
    "papermill": {
     "duration": 0.029278,
     "end_time": "2023-03-16T13:23:56.980438",
     "exception": false,
     "start_time": "2023-03-16T13:23:56.951160",
     "status": "completed"
    },
    "tags": []
   },
   "source": [
    "#### For  department_identifier :-"
   ]
  },
  {
   "cell_type": "code",
   "execution_count": 45,
   "id": "0f4b3e55",
   "metadata": {
    "execution": {
     "iopub.execute_input": "2023-03-16T13:23:57.043623Z",
     "iopub.status.busy": "2023-03-16T13:23:57.042320Z",
     "iopub.status.idle": "2023-03-16T13:23:58.933513Z",
     "shell.execute_reply": "2023-03-16T13:23:58.931994Z"
    },
    "papermill": {
     "duration": 1.92531,
     "end_time": "2023-03-16T13:23:58.936410",
     "exception": false,
     "start_time": "2023-03-16T13:23:57.011100",
     "status": "completed"
    },
    "tags": []
   },
   "outputs": [
    {
     "data": {
      "text/plain": [
       "<AxesSubplot:xlabel='department_identifier', ylabel='Density'>"
      ]
     },
     "execution_count": 45,
     "metadata": {},
     "output_type": "execute_result"
    },
    {
     "data": {
      "image/png": "[encoded data removed]",
      "text/plain": [
       "<Figure size 1000x500 with 1 Axes>"
      ]
     },
     "metadata": {},
     "output_type": "display_data"
    }
   ],
   "source": [
    "#checking the distribution of data\n",
    "\n",
    "plt.figure(figsize = (10,5))\n",
    "sns.distplot(df['department_identifier'])"
   ]
  },
  {
   "cell_type": "code",
   "execution_count": 46,
   "id": "2dc3bd5b",
   "metadata": {
    "execution": {
     "iopub.execute_input": "2023-03-16T13:23:59.001856Z",
     "iopub.status.busy": "2023-03-16T13:23:59.001293Z",
     "iopub.status.idle": "2023-03-16T13:23:59.225975Z",
     "shell.execute_reply": "2023-03-16T13:23:59.224870Z"
    },
    "papermill": {
     "duration": 0.260527,
     "end_time": "2023-03-16T13:23:59.228283",
     "exception": false,
     "start_time": "2023-03-16T13:23:58.967756",
     "status": "completed"
    },
    "tags": []
   },
   "outputs": [
    {
     "data": {
      "text/plain": [
       "<AxesSubplot:>"
      ]
     },
     "execution_count": 46,
     "metadata": {},
     "output_type": "execute_result"
    },
    {
     "data": {
      "image/png": "[encoded data removed]",
      "text/plain": [
       "<Figure size 1000x500 with 1 Axes>"
      ]
     },
     "metadata": {},
     "output_type": "display_data"
    }
   ],
   "source": [
    "# Finding outliers trough graph\n",
    "\n",
    "plt.figure(figsize = (10,5))\n",
    "sns.boxplot(df['department_identifier'])"
   ]
  },
  {
   "cell_type": "markdown",
   "id": "972c19e3",
   "metadata": {
    "papermill": {
     "duration": 0.029981,
     "end_time": "2023-03-16T13:23:59.289361",
     "exception": false,
     "start_time": "2023-03-16T13:23:59.259380",
     "status": "completed"
    },
    "tags": []
   },
   "source": [
    "    From this visual we can see that there is no outliers present"
   ]
  },
  {
   "cell_type": "markdown",
   "id": "14fbf0b6",
   "metadata": {
    "papermill": {
     "duration": 0.030021,
     "end_time": "2023-03-16T13:23:59.349899",
     "exception": false,
     "start_time": "2023-03-16T13:23:59.319878",
     "status": "completed"
    },
    "tags": []
   },
   "source": [
    "#### For  outlet :-"
   ]
  },
  {
   "cell_type": "code",
   "execution_count": 47,
   "id": "42899b2c",
   "metadata": {
    "execution": {
     "iopub.execute_input": "2023-03-16T13:23:59.414767Z",
     "iopub.status.busy": "2023-03-16T13:23:59.413676Z",
     "iopub.status.idle": "2023-03-16T13:24:01.076268Z",
     "shell.execute_reply": "2023-03-16T13:24:01.074718Z"
    },
    "papermill": {
     "duration": 1.698812,
     "end_time": "2023-03-16T13:24:01.079443",
     "exception": false,
     "start_time": "2023-03-16T13:23:59.380631",
     "status": "completed"
    },
    "tags": []
   },
   "outputs": [
    {
     "data": {
      "text/plain": [
       "<AxesSubplot:xlabel='outlet', ylabel='Density'>"
      ]
     },
     "execution_count": 47,
     "metadata": {},
     "output_type": "execute_result"
    },
    {
     "data": {
      "image/png": "[encoded data removed]",
      "text/plain": [
       "<Figure size 1000x500 with 1 Axes>"
      ]
     },
     "metadata": {},
     "output_type": "display_data"
    }
   ],
   "source": [
    "#checking the distribution of data\n",
    "\n",
    "plt.figure(figsize = (10,5))\n",
    "sns.distplot(df['outlet'])"
   ]
  },
  {
   "cell_type": "code",
   "execution_count": 48,
   "id": "0f064045",
   "metadata": {
    "execution": {
     "iopub.execute_input": "2023-03-16T13:24:01.147988Z",
     "iopub.status.busy": "2023-03-16T13:24:01.147488Z",
     "iopub.status.idle": "2023-03-16T13:24:01.372151Z",
     "shell.execute_reply": "2023-03-16T13:24:01.370742Z"
    },
    "papermill": {
     "duration": 0.262585,
     "end_time": "2023-03-16T13:24:01.375050",
     "exception": false,
     "start_time": "2023-03-16T13:24:01.112465",
     "status": "completed"
    },
    "tags": []
   },
   "outputs": [
    {
     "data": {
      "text/plain": [
       "<AxesSubplot:>"
      ]
     },
     "execution_count": 48,
     "metadata": {},
     "output_type": "execute_result"
    },
    {
     "data": {
      "image/png": "[encoded data removed]",
      "text/plain": [
       "<Figure size 1000x500 with 1 Axes>"
      ]
     },
     "metadata": {},
     "output_type": "display_data"
    }
   ],
   "source": [
    "# Finding outliers trough graph\n",
    "\n",
    "plt.figure(figsize = (10,5))\n",
    "sns.boxplot(df['outlet'])"
   ]
  },
  {
   "cell_type": "markdown",
   "id": "f95a0297",
   "metadata": {
    "papermill": {
     "duration": 0.031813,
     "end_time": "2023-03-16T13:24:01.439270",
     "exception": false,
     "start_time": "2023-03-16T13:24:01.407457",
     "status": "completed"
    },
    "tags": []
   },
   "source": [
    "    From this visual we can see that there is no outliers present"
   ]
  },
  {
   "cell_type": "markdown",
   "id": "0cce7477",
   "metadata": {
    "papermill": {
     "duration": 0.031932,
     "end_time": "2023-03-16T13:24:01.504107",
     "exception": false,
     "start_time": "2023-03-16T13:24:01.472175",
     "status": "completed"
    },
    "tags": []
   },
   "source": [
    "#### For  sales :-"
   ]
  },
  {
   "cell_type": "code",
   "execution_count": 49,
   "id": "021f0901",
   "metadata": {
    "execution": {
     "iopub.execute_input": "2023-03-16T13:24:01.570596Z",
     "iopub.status.busy": "2023-03-16T13:24:01.570102Z",
     "iopub.status.idle": "2023-03-16T13:24:03.514085Z",
     "shell.execute_reply": "2023-03-16T13:24:03.513018Z"
    },
    "papermill": {
     "duration": 1.980714,
     "end_time": "2023-03-16T13:24:03.517003",
     "exception": false,
     "start_time": "2023-03-16T13:24:01.536289",
     "status": "completed"
    },
    "tags": []
   },
   "outputs": [
    {
     "data": {
      "text/plain": [
       "<AxesSubplot:xlabel='sales', ylabel='Density'>"
      ]
     },
     "execution_count": 49,
     "metadata": {},
     "output_type": "execute_result"
    },
    {
     "data": {
      "image/png": "[encoded data removed]",
      "text/plain": [
       "<Figure size 1000x500 with 1 Axes>"
      ]
     },
     "metadata": {},
     "output_type": "display_data"
    }
   ],
   "source": [
    "#checking the distribution of data\n",
    "\n",
    "plt.figure(figsize = (10,5))\n",
    "sns.distplot(df['sales'])"
   ]
  },
  {
   "cell_type": "code",
   "execution_count": 50,
   "id": "83366005",
   "metadata": {
    "execution": {
     "iopub.execute_input": "2023-03-16T13:24:03.588457Z",
     "iopub.status.busy": "2023-03-16T13:24:03.587676Z",
     "iopub.status.idle": "2023-03-16T13:24:04.023303Z",
     "shell.execute_reply": "2023-03-16T13:24:04.021672Z"
    },
    "papermill": {
     "duration": 0.473831,
     "end_time": "2023-03-16T13:24:04.026392",
     "exception": false,
     "start_time": "2023-03-16T13:24:03.552561",
     "status": "completed"
    },
    "tags": []
   },
   "outputs": [
    {
     "data": {
      "text/plain": [
       "<AxesSubplot:>"
      ]
     },
     "execution_count": 50,
     "metadata": {},
     "output_type": "execute_result"
    },
    {
     "data": {
      "image/png": "[encoded data removed]",
      "text/plain": [
       "<Figure size 1000x500 with 1 Axes>"
      ]
     },
     "metadata": {},
     "output_type": "display_data"
    }
   ],
   "source": [
    "# Finding outliers trough graph\n",
    "\n",
    "plt.figure(figsize = (10,5))\n",
    "sns.boxplot(df['sales'])"
   ]
  },
  {
   "cell_type": "markdown",
   "id": "2451fbad",
   "metadata": {
    "papermill": {
     "duration": 0.034024,
     "end_time": "2023-03-16T13:24:04.093944",
     "exception": false,
     "start_time": "2023-03-16T13:24:04.059920",
     "status": "completed"
    },
    "tags": []
   },
   "source": [
    "    From this visual we can see that there is outliers present"
   ]
  },
  {
   "cell_type": "code",
   "execution_count": 51,
   "id": "ac36277f",
   "metadata": {
    "execution": {
     "iopub.execute_input": "2023-03-16T13:24:04.163884Z",
     "iopub.status.busy": "2023-03-16T13:24:04.163433Z",
     "iopub.status.idle": "2023-03-16T13:24:04.183272Z",
     "shell.execute_reply": "2023-03-16T13:24:04.181781Z"
    },
    "papermill": {
     "duration": 0.058369,
     "end_time": "2023-03-16T13:24:04.186706",
     "exception": false,
     "start_time": "2023-03-16T13:24:04.128337",
     "status": "completed"
    },
    "tags": []
   },
   "outputs": [
    {
     "data": {
      "text/plain": [
       "1.0"
      ]
     },
     "execution_count": 51,
     "metadata": {},
     "output_type": "execute_result"
    }
   ],
   "source": [
    "## calculating inter quantile range\n",
    "Q3 = df.sales.quantile(0.75)\n",
    "Q1 = df.sales.quantile(0.25)\n",
    "IQR = Q3 - Q1\n",
    "IQR"
   ]
  },
  {
   "cell_type": "code",
   "execution_count": 52,
   "id": "d496612c",
   "metadata": {
    "execution": {
     "iopub.execute_input": "2023-03-16T13:24:04.259284Z",
     "iopub.status.busy": "2023-03-16T13:24:04.258837Z",
     "iopub.status.idle": "2023-03-16T13:24:04.268134Z",
     "shell.execute_reply": "2023-03-16T13:24:04.267096Z"
    },
    "papermill": {
     "duration": 0.049501,
     "end_time": "2023-03-16T13:24:04.271570",
     "exception": false,
     "start_time": "2023-03-16T13:24:04.222069",
     "status": "completed"
    },
    "tags": []
   },
   "outputs": [
    {
     "name": "stdout",
     "output_type": "stream",
     "text": [
      "Upper Bound: 2.5\n",
      "Lower Bound: -1.5\n"
     ]
    }
   ],
   "source": [
    "# Above Upper bound\n",
    "\n",
    "upper=Q3+1.5*IQR\n",
    "upper_array=np.array(df['sales']>=upper)\n",
    "print(\"Upper Bound:\",upper)\n",
    "\n",
    "#Below Lower bound\n",
    "\n",
    "lower=Q1-1.5*IQR\n",
    "lower_array=np.array(df['sales']<=lower)\n",
    "print(\"Lower Bound:\",lower)\n"
   ]
  },
  {
   "cell_type": "code",
   "execution_count": 53,
   "id": "b9b1eda6",
   "metadata": {
    "execution": {
     "iopub.execute_input": "2023-03-16T13:24:04.343714Z",
     "iopub.status.busy": "2023-03-16T13:24:04.342475Z",
     "iopub.status.idle": "2023-03-16T13:24:04.361775Z",
     "shell.execute_reply": "2023-03-16T13:24:04.360337Z"
    },
    "papermill": {
     "duration": 0.059211,
     "end_time": "2023-03-16T13:24:04.364921",
     "exception": false,
     "start_time": "2023-03-16T13:24:04.305710",
     "status": "completed"
    },
    "tags": []
   },
   "outputs": [],
   "source": [
    "# Replacing outliers with null values\n",
    "\n",
    "df['sales'] = np.where(df['sales']>=2.5, np.nan, df['sales'])"
   ]
  },
  {
   "cell_type": "code",
   "execution_count": 54,
   "id": "5732f33b",
   "metadata": {
    "execution": {
     "iopub.execute_input": "2023-03-16T13:24:04.435329Z",
     "iopub.status.busy": "2023-03-16T13:24:04.434830Z",
     "iopub.status.idle": "2023-03-16T13:24:04.444326Z",
     "shell.execute_reply": "2023-03-16T13:24:04.443368Z"
    },
    "papermill": {
     "duration": 0.048066,
     "end_time": "2023-03-16T13:24:04.447020",
     "exception": false,
     "start_time": "2023-03-16T13:24:04.398954",
     "status": "completed"
    },
    "tags": []
   },
   "outputs": [
    {
     "data": {
      "text/plain": [
       "54131"
      ]
     },
     "execution_count": 54,
     "metadata": {},
     "output_type": "execute_result"
    }
   ],
   "source": [
    "df['sales'].isnull().sum()"
   ]
  },
  {
   "cell_type": "markdown",
   "id": "a8bf1125",
   "metadata": {
    "papermill": {
     "duration": 0.034335,
     "end_time": "2023-03-16T13:24:04.516150",
     "exception": false,
     "start_time": "2023-03-16T13:24:04.481815",
     "status": "completed"
    },
    "tags": []
   },
   "source": [
    "#### For  sell_price :-"
   ]
  },
  {
   "cell_type": "code",
   "execution_count": 55,
   "id": "ad1edbec",
   "metadata": {
    "execution": {
     "iopub.execute_input": "2023-03-16T13:24:04.587262Z",
     "iopub.status.busy": "2023-03-16T13:24:04.586834Z",
     "iopub.status.idle": "2023-03-16T13:24:06.532724Z",
     "shell.execute_reply": "2023-03-16T13:24:06.531656Z"
    },
    "papermill": {
     "duration": 1.984818,
     "end_time": "2023-03-16T13:24:06.535485",
     "exception": false,
     "start_time": "2023-03-16T13:24:04.550667",
     "status": "completed"
    },
    "tags": []
   },
   "outputs": [
    {
     "data": {
      "text/plain": [
       "<AxesSubplot:xlabel='sell_price', ylabel='Density'>"
      ]
     },
     "execution_count": 55,
     "metadata": {},
     "output_type": "execute_result"
    },
    {
     "data": {
      "image/png": "[encoded data removed]",
      "text/plain": [
       "<Figure size 1000x500 with 1 Axes>"
      ]
     },
     "metadata": {},
     "output_type": "display_data"
    }
   ],
   "source": [
    "#checking the distribution of data\n",
    "\n",
    "plt.figure(figsize = (10,5))\n",
    "sns.distplot(df['sell_price'])"
   ]
  },
  {
   "cell_type": "code",
   "execution_count": 56,
   "id": "3f57ba9d",
   "metadata": {
    "execution": {
     "iopub.execute_input": "2023-03-16T13:24:06.606613Z",
     "iopub.status.busy": "2023-03-16T13:24:06.606162Z",
     "iopub.status.idle": "2023-03-16T13:24:07.055827Z",
     "shell.execute_reply": "2023-03-16T13:24:07.054316Z"
    },
    "papermill": {
     "duration": 0.489145,
     "end_time": "2023-03-16T13:24:07.059022",
     "exception": false,
     "start_time": "2023-03-16T13:24:06.569877",
     "status": "completed"
    },
    "tags": []
   },
   "outputs": [
    {
     "data": {
      "text/plain": [
       "<AxesSubplot:>"
      ]
     },
     "execution_count": 56,
     "metadata": {},
     "output_type": "execute_result"
    },
    {
     "data": {
      "image/png": "[encoded data removed]",
      "text/plain": [
       "<Figure size 1000x500 with 1 Axes>"
      ]
     },
     "metadata": {},
     "output_type": "display_data"
    }
   ],
   "source": [
    "# Finding outliers trough graph\n",
    "\n",
    "plt.figure(figsize = (10,5))\n",
    "sns.boxplot(df['sell_price'])"
   ]
  },
  {
   "cell_type": "code",
   "execution_count": 57,
   "id": "beb04bf8",
   "metadata": {
    "execution": {
     "iopub.execute_input": "2023-03-16T13:24:07.129460Z",
     "iopub.status.busy": "2023-03-16T13:24:07.128953Z",
     "iopub.status.idle": "2023-03-16T13:24:07.152209Z",
     "shell.execute_reply": "2023-03-16T13:24:07.150842Z"
    },
    "papermill": {
     "duration": 0.062156,
     "end_time": "2023-03-16T13:24:07.155287",
     "exception": false,
     "start_time": "2023-03-16T13:24:07.093131",
     "status": "completed"
    },
    "tags": []
   },
   "outputs": [
    {
     "data": {
      "text/plain": [
       "3.8000000000000003"
      ]
     },
     "execution_count": 57,
     "metadata": {},
     "output_type": "execute_result"
    }
   ],
   "source": [
    "## calculating inter quantile range\n",
    "Q3 = df.sell_price.quantile(0.75)\n",
    "Q1 = df.sell_price.quantile(0.25)\n",
    "IQR = Q3 - Q1\n",
    "IQR"
   ]
  },
  {
   "cell_type": "code",
   "execution_count": 58,
   "id": "0f318de7",
   "metadata": {
    "execution": {
     "iopub.execute_input": "2023-03-16T13:24:07.228858Z",
     "iopub.status.busy": "2023-03-16T13:24:07.228034Z",
     "iopub.status.idle": "2023-03-16T13:24:07.238648Z",
     "shell.execute_reply": "2023-03-16T13:24:07.237202Z"
    },
    "papermill": {
     "duration": 0.05151,
     "end_time": "2023-03-16T13:24:07.241838",
     "exception": false,
     "start_time": "2023-03-16T13:24:07.190328",
     "status": "completed"
    },
    "tags": []
   },
   "outputs": [
    {
     "name": "stdout",
     "output_type": "stream",
     "text": [
      "Upper Bound: 12.18\n",
      "Lower Bound: -3.02\n"
     ]
    }
   ],
   "source": [
    "# Above Upper bound\n",
    "\n",
    "upper=Q3+1.5*IQR\n",
    "upper_array=np.array(df['sell_price']>=upper)\n",
    "print(\"Upper Bound:\",upper)\n",
    "\n",
    "#Below Lower bound\n",
    "\n",
    "lower=Q1-1.5*IQR\n",
    "lower_array=np.array(df['sell_price']<=lower)\n",
    "print(\"Lower Bound:\",lower)"
   ]
  },
  {
   "cell_type": "code",
   "execution_count": 59,
   "id": "d5e5dda5",
   "metadata": {
    "execution": {
     "iopub.execute_input": "2023-03-16T13:24:07.314961Z",
     "iopub.status.busy": "2023-03-16T13:24:07.314179Z",
     "iopub.status.idle": "2023-03-16T13:24:07.325199Z",
     "shell.execute_reply": "2023-03-16T13:24:07.323904Z"
    },
    "papermill": {
     "duration": 0.0516,
     "end_time": "2023-03-16T13:24:07.328416",
     "exception": false,
     "start_time": "2023-03-16T13:24:07.276816",
     "status": "completed"
    },
    "tags": []
   },
   "outputs": [],
   "source": [
    "# Replacing outliers with null values\n",
    "\n",
    "df['sell_price'] = np.where(df['sell_price']>=12.5, np.nan, df['sell_price'])"
   ]
  },
  {
   "cell_type": "code",
   "execution_count": 60,
   "id": "2e8a4f1f",
   "metadata": {
    "execution": {
     "iopub.execute_input": "2023-03-16T13:24:07.402012Z",
     "iopub.status.busy": "2023-03-16T13:24:07.401318Z",
     "iopub.status.idle": "2023-03-16T13:24:07.412361Z",
     "shell.execute_reply": "2023-03-16T13:24:07.410818Z"
    },
    "papermill": {
     "duration": 0.05164,
     "end_time": "2023-03-16T13:24:07.415364",
     "exception": false,
     "start_time": "2023-03-16T13:24:07.363724",
     "status": "completed"
    },
    "tags": []
   },
   "outputs": [
    {
     "data": {
      "text/plain": [
       "8018"
      ]
     },
     "execution_count": 60,
     "metadata": {},
     "output_type": "execute_result"
    }
   ],
   "source": [
    "df['sell_price'].isnull().sum()"
   ]
  },
  {
   "cell_type": "markdown",
   "id": "20ad0251",
   "metadata": {
    "papermill": {
     "duration": 0.035928,
     "end_time": "2023-03-16T13:24:07.487379",
     "exception": false,
     "start_time": "2023-03-16T13:24:07.451451",
     "status": "completed"
    },
    "tags": []
   },
   "source": [
    "###  Bivariate analysis with target variable"
   ]
  },
  {
   "cell_type": "code",
   "execution_count": 61,
   "id": "ed3b100a",
   "metadata": {
    "execution": {
     "iopub.execute_input": "2023-03-16T13:24:07.562868Z",
     "iopub.status.busy": "2023-03-16T13:24:07.561206Z",
     "iopub.status.idle": "2023-03-16T13:24:07.568624Z",
     "shell.execute_reply": "2023-03-16T13:24:07.567129Z"
    },
    "papermill": {
     "duration": 0.047427,
     "end_time": "2023-03-16T13:24:07.571100",
     "exception": false,
     "start_time": "2023-03-16T13:24:07.523673",
     "status": "completed"
    },
    "tags": []
   },
   "outputs": [],
   "source": [
    "##check for insights using scatterplot\n",
    "def scatter(df, column):\n",
    "    plt.figure()\n",
    "    plt.scatter(df[column] , df['sales'])\n",
    "    plt.ylabel('sales')\n",
    "    plt.xlabel(column)"
   ]
  },
  {
   "cell_type": "code",
   "execution_count": 62,
   "id": "57881531",
   "metadata": {
    "execution": {
     "iopub.execute_input": "2023-03-16T13:24:07.643430Z",
     "iopub.status.busy": "2023-03-16T13:24:07.642936Z",
     "iopub.status.idle": "2023-03-16T13:24:18.088909Z",
     "shell.execute_reply": "2023-03-16T13:24:18.085095Z"
    },
    "papermill": {
     "duration": 10.485875,
     "end_time": "2023-03-16T13:24:18.092182",
     "exception": false,
     "start_time": "2023-03-16T13:24:07.606307",
     "status": "completed"
    },
    "tags": []
   },
   "outputs": [
    {
     "data": {
      "image/png": "[encoded data removed]",
      "text/plain": [
       "<Figure size 640x480 with 1 Axes>"
      ]
     },
     "metadata": {},
     "output_type": "display_data"
    },
    {
     "data": {
      "image/png": "[encoded data removed]",
      "text/plain": [
       "<Figure size 640x480 with 1 Axes>"
      ]
     },
     "metadata": {},
     "output_type": "display_data"
    },
    {
     "data": {
      "image/png": "[encoded data removed]",
      "text/plain": [
       "<Figure size 640x480 with 1 Axes>"
      ]
     },
     "metadata": {},
     "output_type": "display_data"
    },
    {
     "data": {
      "image/png": "[encoded data removed]",
      "text/plain": [
       "<Figure size 640x480 with 1 Axes>"
      ]
     },
     "metadata": {},
     "output_type": "display_data"
    },
    {
     "data": {
      "image/png": "[encoded data removed]",
      "text/plain": [
       "<Figure size 640x480 with 1 Axes>"
      ]
     },
     "metadata": {},
     "output_type": "display_data"
    },
    {
     "data": {
      "image/png": "[encoded data removed]",
      "text/plain": [
       "<Figure size 640x480 with 1 Axes>"
      ]
     },
     "metadata": {},
     "output_type": "display_data"
    }
   ],
   "source": [
    "scatter(df, 'product_identifier')\n",
    "scatter(df, 'department_identifier')\n",
    "scatter(df, 'category_of_product')\n",
    "scatter(df, 'outlet')\n",
    "scatter(df, 'state')\n",
    "scatter(df, 'sell_price')"
   ]
  },
  {
   "cell_type": "markdown",
   "id": "873f4925",
   "metadata": {
    "papermill": {
     "duration": 0.036395,
     "end_time": "2023-03-16T13:24:18.166145",
     "exception": false,
     "start_time": "2023-03-16T13:24:18.129750",
     "status": "completed"
    },
    "tags": []
   },
   "source": [
    "### Data Cleaning "
   ]
  },
  {
   "cell_type": "code",
   "execution_count": 63,
   "id": "ce64cbed",
   "metadata": {
    "execution": {
     "iopub.execute_input": "2023-03-16T13:24:18.243845Z",
     "iopub.status.busy": "2023-03-16T13:24:18.243396Z",
     "iopub.status.idle": "2023-03-16T13:24:18.280152Z",
     "shell.execute_reply": "2023-03-16T13:24:18.278719Z"
    },
    "papermill": {
     "duration": 0.080997,
     "end_time": "2023-03-16T13:24:18.283389",
     "exception": false,
     "start_time": "2023-03-16T13:24:18.202392",
     "status": "completed"
    },
    "tags": []
   },
   "outputs": [
    {
     "data": {
      "text/plain": [
       "date                         0\n",
       "product_identifier       23700\n",
       "department_identifier        0\n",
       "category_of_product          0\n",
       "outlet                       0\n",
       "state                        0\n",
       "sales                    54131\n",
       "week_id                      0\n",
       "sell_price                8018\n",
       "dtype: int64"
      ]
     },
     "execution_count": 63,
     "metadata": {},
     "output_type": "execute_result"
    }
   ],
   "source": [
    "df.isnull().sum()"
   ]
  },
  {
   "cell_type": "code",
   "execution_count": 64,
   "id": "e7d6c6d5",
   "metadata": {
    "execution": {
     "iopub.execute_input": "2023-03-16T13:24:18.361675Z",
     "iopub.status.busy": "2023-03-16T13:24:18.361157Z",
     "iopub.status.idle": "2023-03-16T13:24:18.414244Z",
     "shell.execute_reply": "2023-03-16T13:24:18.412564Z"
    },
    "papermill": {
     "duration": 0.096211,
     "end_time": "2023-03-16T13:24:18.417467",
     "exception": false,
     "start_time": "2023-03-16T13:24:18.321256",
     "status": "completed"
    },
    "tags": []
   },
   "outputs": [],
   "source": [
    "# dropping rows with null values\n",
    "\n",
    "df = df.dropna(subset=['product_identifier', 'sales','sell_price'])"
   ]
  },
  {
   "cell_type": "code",
   "execution_count": 65,
   "id": "25f3246e",
   "metadata": {
    "execution": {
     "iopub.execute_input": "2023-03-16T13:24:18.496247Z",
     "iopub.status.busy": "2023-03-16T13:24:18.495729Z",
     "iopub.status.idle": "2023-03-16T13:24:18.503713Z",
     "shell.execute_reply": "2023-03-16T13:24:18.502413Z"
    },
    "papermill": {
     "duration": 0.050718,
     "end_time": "2023-03-16T13:24:18.506565",
     "exception": false,
     "start_time": "2023-03-16T13:24:18.455847",
     "status": "completed"
    },
    "tags": []
   },
   "outputs": [
    {
     "data": {
      "text/plain": [
       "(314497, 9)"
      ]
     },
     "execution_count": 65,
     "metadata": {},
     "output_type": "execute_result"
    }
   ],
   "source": [
    "df.shape"
   ]
  },
  {
   "cell_type": "markdown",
   "id": "1c0ab474",
   "metadata": {
    "papermill": {
     "duration": 0.037479,
     "end_time": "2023-03-16T13:24:18.583501",
     "exception": false,
     "start_time": "2023-03-16T13:24:18.546022",
     "status": "completed"
    },
    "tags": []
   },
   "source": [
    "#### Checking Correlation "
   ]
  },
  {
   "cell_type": "code",
   "execution_count": 66,
   "id": "f576f33c",
   "metadata": {
    "execution": {
     "iopub.execute_input": "2023-03-16T13:24:18.662038Z",
     "iopub.status.busy": "2023-03-16T13:24:18.661615Z",
     "iopub.status.idle": "2023-03-16T13:24:18.718464Z",
     "shell.execute_reply": "2023-03-16T13:24:18.717450Z"
    },
    "papermill": {
     "duration": 0.099368,
     "end_time": "2023-03-16T13:24:18.721046",
     "exception": false,
     "start_time": "2023-03-16T13:24:18.621678",
     "status": "completed"
    },
    "tags": []
   },
   "outputs": [
    {
     "data": {
      "text/html": [
       "<div>\n",
       "<style scoped>\n",
       "    .dataframe tbody tr th:only-of-type {\n",
       "        vertical-align: middle;\n",
       "    }\n",
       "\n",
       "    .dataframe tbody tr th {\n",
       "        vertical-align: top;\n",
       "    }\n",
       "\n",
       "    .dataframe thead th {\n",
       "        text-align: right;\n",
       "    }\n",
       "</style>\n",
       "<table border=\"1\" class=\"dataframe\">\n",
       "  <thead>\n",
       "    <tr style=\"text-align: right;\">\n",
       "      <th></th>\n",
       "      <th>product_identifier</th>\n",
       "      <th>department_identifier</th>\n",
       "      <th>outlet</th>\n",
       "      <th>sales</th>\n",
       "      <th>week_id</th>\n",
       "      <th>sell_price</th>\n",
       "    </tr>\n",
       "  </thead>\n",
       "  <tbody>\n",
       "    <tr>\n",
       "      <th>product_identifier</th>\n",
       "      <td>1.000000</td>\n",
       "      <td>0.908598</td>\n",
       "      <td>0.003276</td>\n",
       "      <td>0.016299</td>\n",
       "      <td>-0.003045</td>\n",
       "      <td>-0.189045</td>\n",
       "    </tr>\n",
       "    <tr>\n",
       "      <th>department_identifier</th>\n",
       "      <td>0.908598</td>\n",
       "      <td>1.000000</td>\n",
       "      <td>0.008676</td>\n",
       "      <td>0.063195</td>\n",
       "      <td>0.002292</td>\n",
       "      <td>-0.290394</td>\n",
       "    </tr>\n",
       "    <tr>\n",
       "      <th>outlet</th>\n",
       "      <td>0.003276</td>\n",
       "      <td>0.008676</td>\n",
       "      <td>1.000000</td>\n",
       "      <td>-0.041699</td>\n",
       "      <td>0.000740</td>\n",
       "      <td>-0.012125</td>\n",
       "    </tr>\n",
       "    <tr>\n",
       "      <th>sales</th>\n",
       "      <td>0.016299</td>\n",
       "      <td>0.063195</td>\n",
       "      <td>-0.041699</td>\n",
       "      <td>1.000000</td>\n",
       "      <td>-0.018685</td>\n",
       "      <td>-0.141466</td>\n",
       "    </tr>\n",
       "    <tr>\n",
       "      <th>week_id</th>\n",
       "      <td>-0.003045</td>\n",
       "      <td>0.002292</td>\n",
       "      <td>0.000740</td>\n",
       "      <td>-0.018685</td>\n",
       "      <td>1.000000</td>\n",
       "      <td>-0.002079</td>\n",
       "    </tr>\n",
       "    <tr>\n",
       "      <th>sell_price</th>\n",
       "      <td>-0.189045</td>\n",
       "      <td>-0.290394</td>\n",
       "      <td>-0.012125</td>\n",
       "      <td>-0.141466</td>\n",
       "      <td>-0.002079</td>\n",
       "      <td>1.000000</td>\n",
       "    </tr>\n",
       "  </tbody>\n",
       "</table>\n",
       "</div>"
      ],
      "text/plain": [
       "                       product_identifier  department_identifier    outlet  \\\n",
       "product_identifier               1.000000               0.908598  0.003276   \n",
       "department_identifier            0.908598               1.000000  0.008676   \n",
       "outlet                           0.003276               0.008676  1.000000   \n",
       "sales                            0.016299               0.063195 -0.041699   \n",
       "week_id                         -0.003045               0.002292  0.000740   \n",
       "sell_price                      -0.189045              -0.290394 -0.012125   \n",
       "\n",
       "                          sales   week_id  sell_price  \n",
       "product_identifier     0.016299 -0.003045   -0.189045  \n",
       "department_identifier  0.063195  0.002292   -0.290394  \n",
       "outlet                -0.041699  0.000740   -0.012125  \n",
       "sales                  1.000000 -0.018685   -0.141466  \n",
       "week_id               -0.018685  1.000000   -0.002079  \n",
       "sell_price            -0.141466 -0.002079    1.000000  "
      ]
     },
     "execution_count": 66,
     "metadata": {},
     "output_type": "execute_result"
    }
   ],
   "source": [
    "df.corr()"
   ]
  },
  {
   "cell_type": "code",
   "execution_count": 67,
   "id": "92a4fe77",
   "metadata": {
    "execution": {
     "iopub.execute_input": "2023-03-16T13:24:18.800733Z",
     "iopub.status.busy": "2023-03-16T13:24:18.800288Z",
     "iopub.status.idle": "2023-03-16T13:24:19.357929Z",
     "shell.execute_reply": "2023-03-16T13:24:19.356960Z"
    },
    "papermill": {
     "duration": 0.601677,
     "end_time": "2023-03-16T13:24:19.360808",
     "exception": false,
     "start_time": "2023-03-16T13:24:18.759131",
     "status": "completed"
    },
    "tags": []
   },
   "outputs": [
    {
     "data": {
      "text/plain": [
       "(array([0.5, 1.5, 2.5, 3.5, 4.5, 5.5]),\n",
       " [Text(0, 0.5, 'product_identifier'),\n",
       "  Text(0, 1.5, 'department_identifier'),\n",
       "  Text(0, 2.5, 'outlet'),\n",
       "  Text(0, 3.5, 'sales'),\n",
       "  Text(0, 4.5, 'week_id'),\n",
       "  Text(0, 5.5, 'sell_price')])"
      ]
     },
     "execution_count": 67,
     "metadata": {},
     "output_type": "execute_result"
    },
    {
     "data": {
      "image/png": "[encoded data removed]",
      "text/plain": [
       "<Figure size 1800x1000 with 2 Axes>"
      ]
     },
     "metadata": {},
     "output_type": "display_data"
    }
   ],
   "source": [
    "#Heatmap Correlation\n",
    "import seaborn as sns\n",
    "corr = df.corr()\n",
    "# Generate a mask for the upper triangle\n",
    "mask = np.zeros_like(corr, dtype=np.bool)\n",
    "mask[np.triu_indices_from(mask)] = True\n",
    "\n",
    "# Set up the matplotlib figure\n",
    "f, ax = plt.subplots(figsize=(18, 10))\n",
    "\n",
    "# Generate a custom diverging colormap\n",
    "cmap = sns.diverging_palette(220,10, as_cmap=True)\n",
    "\n",
    "# Draw the heatmap with the mask and correct aspect ratio\n",
    "sns.heatmap(corr, mask=mask,cmap=\"RdYlGn\", vmin=-1, vmax=1, center=0, cbar=True, annot =True,\n",
    "            square=True, linewidths=.5, annot_kws={\"size\": 15})\n",
    "plt.xticks(rotation=90, fontsize=15)\n",
    "plt.title('Heatmap Correlation', fontsize=22)\n",
    "plt.yticks(fontsize=15)"
   ]
  },
  {
   "cell_type": "markdown",
   "id": "2c71a565",
   "metadata": {
    "papermill": {
     "duration": 0.039781,
     "end_time": "2023-03-16T13:24:19.440826",
     "exception": false,
     "start_time": "2023-03-16T13:24:19.401045",
     "status": "completed"
    },
    "tags": []
   },
   "source": [
    "    From this visuals we can clearly see that product_identifier and department_identifier are highly correlated so we can delet any of the column."
   ]
  },
  {
   "cell_type": "code",
   "execution_count": 68,
   "id": "2fa90214",
   "metadata": {
    "execution": {
     "iopub.execute_input": "2023-03-16T13:24:19.524484Z",
     "iopub.status.busy": "2023-03-16T13:24:19.523733Z",
     "iopub.status.idle": "2023-03-16T13:24:19.602602Z",
     "shell.execute_reply": "2023-03-16T13:24:19.601216Z"
    },
    "papermill": {
     "duration": 0.12389,
     "end_time": "2023-03-16T13:24:19.605731",
     "exception": false,
     "start_time": "2023-03-16T13:24:19.481841",
     "status": "completed"
    },
    "tags": []
   },
   "outputs": [],
   "source": [
    "# Deriving new feature called months from date column\n",
    "\n",
    "df['Month'] = pd.to_datetime(df['date']).dt.month\n"
   ]
  },
  {
   "cell_type": "code",
   "execution_count": 69,
   "id": "d5442ebf",
   "metadata": {
    "execution": {
     "iopub.execute_input": "2023-03-16T13:24:19.688535Z",
     "iopub.status.busy": "2023-03-16T13:24:19.687332Z",
     "iopub.status.idle": "2023-03-16T13:24:19.695934Z",
     "shell.execute_reply": "2023-03-16T13:24:19.694366Z"
    },
    "papermill": {
     "duration": 0.052648,
     "end_time": "2023-03-16T13:24:19.698791",
     "exception": false,
     "start_time": "2023-03-16T13:24:19.646143",
     "status": "completed"
    },
    "tags": []
   },
   "outputs": [
    {
     "data": {
      "text/plain": [
       "Index(['date', 'product_identifier', 'department_identifier',\n",
       "       'category_of_product', 'outlet', 'state', 'sales', 'week_id',\n",
       "       'sell_price', 'Month'],\n",
       "      dtype='object')"
      ]
     },
     "execution_count": 69,
     "metadata": {},
     "output_type": "execute_result"
    }
   ],
   "source": [
    "df.columns"
   ]
  },
  {
   "cell_type": "code",
   "execution_count": 70,
   "id": "372b43f5",
   "metadata": {
    "execution": {
     "iopub.execute_input": "2023-03-16T13:24:19.780855Z",
     "iopub.status.busy": "2023-03-16T13:24:19.779383Z",
     "iopub.status.idle": "2023-03-16T13:24:19.799065Z",
     "shell.execute_reply": "2023-03-16T13:24:19.797638Z"
    },
    "papermill": {
     "duration": 0.06359,
     "end_time": "2023-03-16T13:24:19.801785",
     "exception": false,
     "start_time": "2023-03-16T13:24:19.738195",
     "status": "completed"
    },
    "tags": []
   },
   "outputs": [
    {
     "data": {
      "text/html": [
       "<div>\n",
       "<style scoped>\n",
       "    .dataframe tbody tr th:only-of-type {\n",
       "        vertical-align: middle;\n",
       "    }\n",
       "\n",
       "    .dataframe tbody tr th {\n",
       "        vertical-align: top;\n",
       "    }\n",
       "\n",
       "    .dataframe thead th {\n",
       "        text-align: right;\n",
       "    }\n",
       "</style>\n",
       "<table border=\"1\" class=\"dataframe\">\n",
       "  <thead>\n",
       "    <tr style=\"text-align: right;\">\n",
       "      <th></th>\n",
       "      <th>date</th>\n",
       "      <th>product_identifier</th>\n",
       "      <th>department_identifier</th>\n",
       "      <th>category_of_product</th>\n",
       "      <th>outlet</th>\n",
       "      <th>state</th>\n",
       "      <th>sales</th>\n",
       "      <th>week_id</th>\n",
       "      <th>sell_price</th>\n",
       "      <th>Month</th>\n",
       "    </tr>\n",
       "  </thead>\n",
       "  <tbody>\n",
       "    <tr>\n",
       "      <th>0</th>\n",
       "      <td>2012-01-01</td>\n",
       "      <td>74.0</td>\n",
       "      <td>11</td>\n",
       "      <td>others</td>\n",
       "      <td>111</td>\n",
       "      <td>Maharashtra</td>\n",
       "      <td>0.0</td>\n",
       "      <td>49</td>\n",
       "      <td>2.94</td>\n",
       "      <td>1</td>\n",
       "    </tr>\n",
       "    <tr>\n",
       "      <th>1</th>\n",
       "      <td>2012-01-01</td>\n",
       "      <td>337.0</td>\n",
       "      <td>11</td>\n",
       "      <td>others</td>\n",
       "      <td>111</td>\n",
       "      <td>Maharashtra</td>\n",
       "      <td>1.0</td>\n",
       "      <td>49</td>\n",
       "      <td>7.44</td>\n",
       "      <td>1</td>\n",
       "    </tr>\n",
       "    <tr>\n",
       "      <th>2</th>\n",
       "      <td>2012-01-01</td>\n",
       "      <td>423.0</td>\n",
       "      <td>12</td>\n",
       "      <td>others</td>\n",
       "      <td>111</td>\n",
       "      <td>Maharashtra</td>\n",
       "      <td>0.0</td>\n",
       "      <td>49</td>\n",
       "      <td>0.97</td>\n",
       "      <td>1</td>\n",
       "    </tr>\n",
       "    <tr>\n",
       "      <th>3</th>\n",
       "      <td>2012-01-01</td>\n",
       "      <td>432.0</td>\n",
       "      <td>12</td>\n",
       "      <td>others</td>\n",
       "      <td>111</td>\n",
       "      <td>Maharashtra</td>\n",
       "      <td>0.0</td>\n",
       "      <td>49</td>\n",
       "      <td>4.97</td>\n",
       "      <td>1</td>\n",
       "    </tr>\n",
       "    <tr>\n",
       "      <th>4</th>\n",
       "      <td>2012-01-01</td>\n",
       "      <td>581.0</td>\n",
       "      <td>21</td>\n",
       "      <td>fast_moving_consumer_goods</td>\n",
       "      <td>111</td>\n",
       "      <td>Maharashtra</td>\n",
       "      <td>0.0</td>\n",
       "      <td>49</td>\n",
       "      <td>4.88</td>\n",
       "      <td>1</td>\n",
       "    </tr>\n",
       "  </tbody>\n",
       "</table>\n",
       "</div>"
      ],
      "text/plain": [
       "         date  product_identifier  department_identifier  \\\n",
       "0  2012-01-01                74.0                     11   \n",
       "1  2012-01-01               337.0                     11   \n",
       "2  2012-01-01               423.0                     12   \n",
       "3  2012-01-01               432.0                     12   \n",
       "4  2012-01-01               581.0                     21   \n",
       "\n",
       "          category_of_product  outlet        state  sales  week_id  \\\n",
       "0                      others     111  Maharashtra    0.0       49   \n",
       "1                      others     111  Maharashtra    1.0       49   \n",
       "2                      others     111  Maharashtra    0.0       49   \n",
       "3                      others     111  Maharashtra    0.0       49   \n",
       "4  fast_moving_consumer_goods     111  Maharashtra    0.0       49   \n",
       "\n",
       "   sell_price  Month  \n",
       "0        2.94      1  \n",
       "1        7.44      1  \n",
       "2        0.97      1  \n",
       "3        4.97      1  \n",
       "4        4.88      1  "
      ]
     },
     "execution_count": 70,
     "metadata": {},
     "output_type": "execute_result"
    }
   ],
   "source": [
    "df.head()"
   ]
  },
  {
   "cell_type": "code",
   "execution_count": 71,
   "id": "3dcc0627",
   "metadata": {
    "execution": {
     "iopub.execute_input": "2023-03-16T13:24:19.883190Z",
     "iopub.status.busy": "2023-03-16T13:24:19.882794Z",
     "iopub.status.idle": "2023-03-16T13:24:19.896505Z",
     "shell.execute_reply": "2023-03-16T13:24:19.895142Z"
    },
    "papermill": {
     "duration": 0.05823,
     "end_time": "2023-03-16T13:24:19.899797",
     "exception": false,
     "start_time": "2023-03-16T13:24:19.841567",
     "status": "completed"
    },
    "tags": []
   },
   "outputs": [],
   "source": [
    "# dropping unnecesary columns\n",
    "\n",
    "df = df.drop(columns=[\"date\",\"week_id\",\"product_identifier\"])"
   ]
  },
  {
   "cell_type": "code",
   "execution_count": 72,
   "id": "1d3d1fdf",
   "metadata": {
    "execution": {
     "iopub.execute_input": "2023-03-16T13:24:19.983325Z",
     "iopub.status.busy": "2023-03-16T13:24:19.982907Z",
     "iopub.status.idle": "2023-03-16T13:24:19.989225Z",
     "shell.execute_reply": "2023-03-16T13:24:19.988077Z"
    },
    "papermill": {
     "duration": 0.051816,
     "end_time": "2023-03-16T13:24:19.992106",
     "exception": false,
     "start_time": "2023-03-16T13:24:19.940290",
     "status": "completed"
    },
    "tags": []
   },
   "outputs": [
    {
     "data": {
      "text/plain": [
       "(314497, 7)"
      ]
     },
     "execution_count": 72,
     "metadata": {},
     "output_type": "execute_result"
    }
   ],
   "source": [
    "df.shape"
   ]
  },
  {
   "cell_type": "code",
   "execution_count": 73,
   "id": "7619ece6",
   "metadata": {
    "execution": {
     "iopub.execute_input": "2023-03-16T13:24:20.074609Z",
     "iopub.status.busy": "2023-03-16T13:24:20.074128Z",
     "iopub.status.idle": "2023-03-16T13:24:20.091832Z",
     "shell.execute_reply": "2023-03-16T13:24:20.090332Z"
    },
    "papermill": {
     "duration": 0.062312,
     "end_time": "2023-03-16T13:24:20.094654",
     "exception": false,
     "start_time": "2023-03-16T13:24:20.032342",
     "status": "completed"
    },
    "tags": []
   },
   "outputs": [
    {
     "data": {
      "text/html": [
       "<div>\n",
       "<style scoped>\n",
       "    .dataframe tbody tr th:only-of-type {\n",
       "        vertical-align: middle;\n",
       "    }\n",
       "\n",
       "    .dataframe tbody tr th {\n",
       "        vertical-align: top;\n",
       "    }\n",
       "\n",
       "    .dataframe thead th {\n",
       "        text-align: right;\n",
       "    }\n",
       "</style>\n",
       "<table border=\"1\" class=\"dataframe\">\n",
       "  <thead>\n",
       "    <tr style=\"text-align: right;\">\n",
       "      <th></th>\n",
       "      <th>department_identifier</th>\n",
       "      <th>category_of_product</th>\n",
       "      <th>outlet</th>\n",
       "      <th>state</th>\n",
       "      <th>sales</th>\n",
       "      <th>sell_price</th>\n",
       "      <th>Month</th>\n",
       "    </tr>\n",
       "  </thead>\n",
       "  <tbody>\n",
       "    <tr>\n",
       "      <th>0</th>\n",
       "      <td>11</td>\n",
       "      <td>others</td>\n",
       "      <td>111</td>\n",
       "      <td>Maharashtra</td>\n",
       "      <td>0.0</td>\n",
       "      <td>2.94</td>\n",
       "      <td>1</td>\n",
       "    </tr>\n",
       "    <tr>\n",
       "      <th>1</th>\n",
       "      <td>11</td>\n",
       "      <td>others</td>\n",
       "      <td>111</td>\n",
       "      <td>Maharashtra</td>\n",
       "      <td>1.0</td>\n",
       "      <td>7.44</td>\n",
       "      <td>1</td>\n",
       "    </tr>\n",
       "    <tr>\n",
       "      <th>2</th>\n",
       "      <td>12</td>\n",
       "      <td>others</td>\n",
       "      <td>111</td>\n",
       "      <td>Maharashtra</td>\n",
       "      <td>0.0</td>\n",
       "      <td>0.97</td>\n",
       "      <td>1</td>\n",
       "    </tr>\n",
       "    <tr>\n",
       "      <th>3</th>\n",
       "      <td>12</td>\n",
       "      <td>others</td>\n",
       "      <td>111</td>\n",
       "      <td>Maharashtra</td>\n",
       "      <td>0.0</td>\n",
       "      <td>4.97</td>\n",
       "      <td>1</td>\n",
       "    </tr>\n",
       "    <tr>\n",
       "      <th>4</th>\n",
       "      <td>21</td>\n",
       "      <td>fast_moving_consumer_goods</td>\n",
       "      <td>111</td>\n",
       "      <td>Maharashtra</td>\n",
       "      <td>0.0</td>\n",
       "      <td>4.88</td>\n",
       "      <td>1</td>\n",
       "    </tr>\n",
       "  </tbody>\n",
       "</table>\n",
       "</div>"
      ],
      "text/plain": [
       "   department_identifier         category_of_product  outlet        state  \\\n",
       "0                     11                      others     111  Maharashtra   \n",
       "1                     11                      others     111  Maharashtra   \n",
       "2                     12                      others     111  Maharashtra   \n",
       "3                     12                      others     111  Maharashtra   \n",
       "4                     21  fast_moving_consumer_goods     111  Maharashtra   \n",
       "\n",
       "   sales  sell_price  Month  \n",
       "0    0.0        2.94      1  \n",
       "1    1.0        7.44      1  \n",
       "2    0.0        0.97      1  \n",
       "3    0.0        4.97      1  \n",
       "4    0.0        4.88      1  "
      ]
     },
     "execution_count": 73,
     "metadata": {},
     "output_type": "execute_result"
    }
   ],
   "source": [
    "df.head()"
   ]
  },
  {
   "cell_type": "markdown",
   "id": "7f9223d4",
   "metadata": {
    "papermill": {
     "duration": 0.040156,
     "end_time": "2023-03-16T13:24:20.175294",
     "exception": false,
     "start_time": "2023-03-16T13:24:20.135138",
     "status": "completed"
    },
    "tags": []
   },
   "source": [
    "### Encoding categorical features to numerical "
   ]
  },
  {
   "cell_type": "code",
   "execution_count": 74,
   "id": "26edc72a",
   "metadata": {
    "execution": {
     "iopub.execute_input": "2023-03-16T13:24:20.260839Z",
     "iopub.status.busy": "2023-03-16T13:24:20.260316Z",
     "iopub.status.idle": "2023-03-16T13:24:20.271259Z",
     "shell.execute_reply": "2023-03-16T13:24:20.269848Z"
    },
    "papermill": {
     "duration": 0.05819,
     "end_time": "2023-03-16T13:24:20.274363",
     "exception": false,
     "start_time": "2023-03-16T13:24:20.216173",
     "status": "completed"
    },
    "tags": []
   },
   "outputs": [
    {
     "data": {
      "text/plain": [
       "department_identifier       int64\n",
       "category_of_product      category\n",
       "outlet                      int64\n",
       "state                    category\n",
       "sales                     float64\n",
       "sell_price                float64\n",
       "Month                       int64\n",
       "dtype: object"
      ]
     },
     "execution_count": 74,
     "metadata": {},
     "output_type": "execute_result"
    }
   ],
   "source": [
    "df.dtypes"
   ]
  },
  {
   "cell_type": "code",
   "execution_count": 75,
   "id": "38489d5e",
   "metadata": {
    "execution": {
     "iopub.execute_input": "2023-03-16T13:24:20.359972Z",
     "iopub.status.busy": "2023-03-16T13:24:20.359502Z",
     "iopub.status.idle": "2023-03-16T13:24:20.369182Z",
     "shell.execute_reply": "2023-03-16T13:24:20.367926Z"
    },
    "papermill": {
     "duration": 0.055476,
     "end_time": "2023-03-16T13:24:20.372295",
     "exception": false,
     "start_time": "2023-03-16T13:24:20.316819",
     "status": "completed"
    },
    "tags": []
   },
   "outputs": [
    {
     "data": {
      "text/plain": [
       "3"
      ]
     },
     "execution_count": 75,
     "metadata": {},
     "output_type": "execute_result"
    }
   ],
   "source": [
    "df['category_of_product'].nunique()"
   ]
  },
  {
   "cell_type": "code",
   "execution_count": 76,
   "id": "8231a1d7",
   "metadata": {
    "execution": {
     "iopub.execute_input": "2023-03-16T13:24:20.459663Z",
     "iopub.status.busy": "2023-03-16T13:24:20.459221Z",
     "iopub.status.idle": "2023-03-16T13:24:20.468167Z",
     "shell.execute_reply": "2023-03-16T13:24:20.466968Z"
    },
    "papermill": {
     "duration": 0.055673,
     "end_time": "2023-03-16T13:24:20.470999",
     "exception": false,
     "start_time": "2023-03-16T13:24:20.415326",
     "status": "completed"
    },
    "tags": []
   },
   "outputs": [
    {
     "data": {
      "text/plain": [
       "3"
      ]
     },
     "execution_count": 76,
     "metadata": {},
     "output_type": "execute_result"
    }
   ],
   "source": [
    "df['state'].nunique()"
   ]
  },
  {
   "cell_type": "code",
   "execution_count": 77,
   "id": "b07eb773",
   "metadata": {
    "execution": {
     "iopub.execute_input": "2023-03-16T13:24:20.555653Z",
     "iopub.status.busy": "2023-03-16T13:24:20.555170Z",
     "iopub.status.idle": "2023-03-16T13:24:20.901610Z",
     "shell.execute_reply": "2023-03-16T13:24:20.900089Z"
    },
    "papermill": {
     "duration": 0.392042,
     "end_time": "2023-03-16T13:24:20.904856",
     "exception": false,
     "start_time": "2023-03-16T13:24:20.512814",
     "status": "completed"
    },
    "tags": []
   },
   "outputs": [],
   "source": [
    "# Import label encoder\n",
    "from sklearn import preprocessing\n",
    "  \n",
    "# label_encoder object knows how to understand word labels.\n",
    "label_encoder = preprocessing.LabelEncoder()\n",
    "  \n",
    "# Encode labels in column 'category_of_product'.\n",
    "\n",
    "df['category_of_product']= label_encoder.fit_transform(df['category_of_product'])\n",
    "\n",
    "# Encoding labels in state.\n",
    "\n",
    "df['state']= label_encoder.fit_transform(df['state'])\n"
   ]
  },
  {
   "cell_type": "code",
   "execution_count": 78,
   "id": "6cbe95f9",
   "metadata": {
    "execution": {
     "iopub.execute_input": "2023-03-16T13:24:20.988626Z",
     "iopub.status.busy": "2023-03-16T13:24:20.988058Z",
     "iopub.status.idle": "2023-03-16T13:24:21.036355Z",
     "shell.execute_reply": "2023-03-16T13:24:21.034889Z"
    },
    "papermill": {
     "duration": 0.094521,
     "end_time": "2023-03-16T13:24:21.040095",
     "exception": false,
     "start_time": "2023-03-16T13:24:20.945574",
     "status": "completed"
    },
    "tags": []
   },
   "outputs": [
    {
     "data": {
      "text/html": [
       "<div>\n",
       "<style scoped>\n",
       "    .dataframe tbody tr th:only-of-type {\n",
       "        vertical-align: middle;\n",
       "    }\n",
       "\n",
       "    .dataframe tbody tr th {\n",
       "        vertical-align: top;\n",
       "    }\n",
       "\n",
       "    .dataframe thead th {\n",
       "        text-align: right;\n",
       "    }\n",
       "</style>\n",
       "<table border=\"1\" class=\"dataframe\">\n",
       "  <thead>\n",
       "    <tr style=\"text-align: right;\">\n",
       "      <th></th>\n",
       "      <th>department_identifier</th>\n",
       "      <th>category_of_product</th>\n",
       "      <th>outlet</th>\n",
       "      <th>state</th>\n",
       "      <th>sales</th>\n",
       "      <th>sell_price</th>\n",
       "      <th>Month</th>\n",
       "    </tr>\n",
       "  </thead>\n",
       "  <tbody>\n",
       "    <tr>\n",
       "      <th>317172</th>\n",
       "      <td>22</td>\n",
       "      <td>1</td>\n",
       "      <td>114</td>\n",
       "      <td>1</td>\n",
       "      <td>0.0</td>\n",
       "      <td>3.97</td>\n",
       "      <td>9</td>\n",
       "    </tr>\n",
       "    <tr>\n",
       "      <th>281976</th>\n",
       "      <td>22</td>\n",
       "      <td>1</td>\n",
       "      <td>333</td>\n",
       "      <td>0</td>\n",
       "      <td>1.0</td>\n",
       "      <td>9.97</td>\n",
       "      <td>7</td>\n",
       "    </tr>\n",
       "    <tr>\n",
       "      <th>41284</th>\n",
       "      <td>31</td>\n",
       "      <td>0</td>\n",
       "      <td>222</td>\n",
       "      <td>2</td>\n",
       "      <td>2.0</td>\n",
       "      <td>2.00</td>\n",
       "      <td>3</td>\n",
       "    </tr>\n",
       "    <tr>\n",
       "      <th>267458</th>\n",
       "      <td>21</td>\n",
       "      <td>1</td>\n",
       "      <td>333</td>\n",
       "      <td>0</td>\n",
       "      <td>0.0</td>\n",
       "      <td>4.47</td>\n",
       "      <td>6</td>\n",
       "    </tr>\n",
       "    <tr>\n",
       "      <th>368291</th>\n",
       "      <td>33</td>\n",
       "      <td>0</td>\n",
       "      <td>222</td>\n",
       "      <td>2</td>\n",
       "      <td>0.0</td>\n",
       "      <td>3.88</td>\n",
       "      <td>1</td>\n",
       "    </tr>\n",
       "  </tbody>\n",
       "</table>\n",
       "</div>"
      ],
      "text/plain": [
       "        department_identifier  category_of_product  outlet  state  sales  \\\n",
       "317172                     22                    1     114      1    0.0   \n",
       "281976                     22                    1     333      0    1.0   \n",
       "41284                      31                    0     222      2    2.0   \n",
       "267458                     21                    1     333      0    0.0   \n",
       "368291                     33                    0     222      2    0.0   \n",
       "\n",
       "        sell_price  Month  \n",
       "317172        3.97      9  \n",
       "281976        9.97      7  \n",
       "41284         2.00      3  \n",
       "267458        4.47      6  \n",
       "368291        3.88      1  "
      ]
     },
     "execution_count": 78,
     "metadata": {},
     "output_type": "execute_result"
    }
   ],
   "source": [
    "df.sample(5)"
   ]
  },
  {
   "cell_type": "code",
   "execution_count": 79,
   "id": "0585cffd",
   "metadata": {
    "execution": {
     "iopub.execute_input": "2023-03-16T13:24:21.124255Z",
     "iopub.status.busy": "2023-03-16T13:24:21.123825Z",
     "iopub.status.idle": "2023-03-16T13:24:21.135422Z",
     "shell.execute_reply": "2023-03-16T13:24:21.134250Z"
    },
    "papermill": {
     "duration": 0.057392,
     "end_time": "2023-03-16T13:24:21.138507",
     "exception": false,
     "start_time": "2023-03-16T13:24:21.081115",
     "status": "completed"
    },
    "tags": []
   },
   "outputs": [],
   "source": [
    "# Converting datatype from float to int og sales\n",
    "\n",
    "df = df.astype({\"sales\":'int'}) "
   ]
  },
  {
   "cell_type": "code",
   "execution_count": 80,
   "id": "34449526",
   "metadata": {
    "execution": {
     "iopub.execute_input": "2023-03-16T13:24:21.223340Z",
     "iopub.status.busy": "2023-03-16T13:24:21.222910Z",
     "iopub.status.idle": "2023-03-16T13:24:21.231969Z",
     "shell.execute_reply": "2023-03-16T13:24:21.230648Z"
    },
    "papermill": {
     "duration": 0.054928,
     "end_time": "2023-03-16T13:24:21.234746",
     "exception": false,
     "start_time": "2023-03-16T13:24:21.179818",
     "status": "completed"
    },
    "tags": []
   },
   "outputs": [
    {
     "data": {
      "text/plain": [
       "department_identifier      int64\n",
       "category_of_product        int64\n",
       "outlet                     int64\n",
       "state                      int64\n",
       "sales                      int64\n",
       "sell_price               float64\n",
       "Month                      int64\n",
       "dtype: object"
      ]
     },
     "execution_count": 80,
     "metadata": {},
     "output_type": "execute_result"
    }
   ],
   "source": [
    "df.dtypes"
   ]
  },
  {
   "cell_type": "markdown",
   "id": "89dcfa1f",
   "metadata": {
    "papermill": {
     "duration": 0.041962,
     "end_time": "2023-03-16T13:24:21.320029",
     "exception": false,
     "start_time": "2023-03-16T13:24:21.278067",
     "status": "completed"
    },
    "tags": []
   },
   "source": [
    "## Model Building  "
   ]
  },
  {
   "cell_type": "markdown",
   "id": "05ce2e03",
   "metadata": {
    "papermill": {
     "duration": 0.040657,
     "end_time": "2023-03-16T13:24:21.403061",
     "exception": false,
     "start_time": "2023-03-16T13:24:21.362404",
     "status": "completed"
    },
    "tags": []
   },
   "source": [
    "### Splitting Dataset "
   ]
  },
  {
   "cell_type": "code",
   "execution_count": 81,
   "id": "7486ec49",
   "metadata": {
    "execution": {
     "iopub.execute_input": "2023-03-16T13:24:21.488998Z",
     "iopub.status.busy": "2023-03-16T13:24:21.487338Z",
     "iopub.status.idle": "2023-03-16T13:24:21.514400Z",
     "shell.execute_reply": "2023-03-16T13:24:21.513327Z"
    },
    "papermill": {
     "duration": 0.073417,
     "end_time": "2023-03-16T13:24:21.517665",
     "exception": false,
     "start_time": "2023-03-16T13:24:21.444248",
     "status": "completed"
    },
    "tags": []
   },
   "outputs": [],
   "source": [
    "# Splitting the data into X,y\n",
    "X = df.drop(\"sell_price\",axis = 1)\n",
    "Y = df[\"sell_price\"].values.reshape(-1,1)"
   ]
  },
  {
   "cell_type": "code",
   "execution_count": 82,
   "id": "ab7a93e7",
   "metadata": {
    "execution": {
     "iopub.execute_input": "2023-03-16T13:24:21.601476Z",
     "iopub.status.busy": "2023-03-16T13:24:21.600990Z",
     "iopub.status.idle": "2023-03-16T13:24:21.733941Z",
     "shell.execute_reply": "2023-03-16T13:24:21.732409Z"
    },
    "papermill": {
     "duration": 0.178754,
     "end_time": "2023-03-16T13:24:21.737374",
     "exception": false,
     "start_time": "2023-03-16T13:24:21.558620",
     "status": "completed"
    },
    "tags": []
   },
   "outputs": [],
   "source": [
    "from sklearn.model_selection import train_test_split\n",
    "# using the train test split function\n",
    "X_train, X_test,Y_train, Y_test = train_test_split(X,Y ,random_state=104, test_size=0.25, shuffle=True)"
   ]
  },
  {
   "cell_type": "markdown",
   "id": "3bed6011",
   "metadata": {
    "papermill": {
     "duration": 0.040736,
     "end_time": "2023-03-16T13:24:21.820446",
     "exception": false,
     "start_time": "2023-03-16T13:24:21.779710",
     "status": "completed"
    },
    "tags": []
   },
   "source": [
    "### Feature Scaling "
   ]
  },
  {
   "cell_type": "code",
   "execution_count": 83,
   "id": "80fa4711",
   "metadata": {
    "execution": {
     "iopub.execute_input": "2023-03-16T13:24:21.904356Z",
     "iopub.status.busy": "2023-03-16T13:24:21.903899Z",
     "iopub.status.idle": "2023-03-16T13:24:21.910050Z",
     "shell.execute_reply": "2023-03-16T13:24:21.908639Z"
    },
    "papermill": {
     "duration": 0.050907,
     "end_time": "2023-03-16T13:24:21.912436",
     "exception": false,
     "start_time": "2023-03-16T13:24:21.861529",
     "status": "completed"
    },
    "tags": []
   },
   "outputs": [],
   "source": [
    "##normalising the data\n",
    "from sklearn.preprocessing import StandardScaler\n",
    "scaler=StandardScaler()"
   ]
  },
  {
   "cell_type": "code",
   "execution_count": 84,
   "id": "65ebba11",
   "metadata": {
    "execution": {
     "iopub.execute_input": "2023-03-16T13:24:22.102626Z",
     "iopub.status.busy": "2023-03-16T13:24:22.101415Z",
     "iopub.status.idle": "2023-03-16T13:24:22.154320Z",
     "shell.execute_reply": "2023-03-16T13:24:22.152890Z"
    },
    "papermill": {
     "duration": 0.20455,
     "end_time": "2023-03-16T13:24:22.157886",
     "exception": false,
     "start_time": "2023-03-16T13:24:21.953336",
     "status": "completed"
    },
    "tags": []
   },
   "outputs": [],
   "source": [
    "X_train=scaler.fit_transform(X_train)\n",
    "X_test=scaler.transform(X_test) "
   ]
  },
  {
   "cell_type": "markdown",
   "id": "80402829",
   "metadata": {
    "papermill": {
     "duration": 0.041792,
     "end_time": "2023-03-16T13:24:22.243102",
     "exception": false,
     "start_time": "2023-03-16T13:24:22.201310",
     "status": "completed"
    },
    "tags": []
   },
   "source": [
    "### Model Deployment "
   ]
  },
  {
   "cell_type": "code",
   "execution_count": 85,
   "id": "305428d7",
   "metadata": {
    "execution": {
     "iopub.execute_input": "2023-03-16T13:24:22.330610Z",
     "iopub.status.busy": "2023-03-16T13:24:22.330113Z",
     "iopub.status.idle": "2023-03-16T13:24:22.855041Z",
     "shell.execute_reply": "2023-03-16T13:24:22.853535Z"
    },
    "papermill": {
     "duration": 0.571624,
     "end_time": "2023-03-16T13:24:22.858401",
     "exception": false,
     "start_time": "2023-03-16T13:24:22.286777",
     "status": "completed"
    },
    "tags": []
   },
   "outputs": [],
   "source": [
    "from sklearn.metrics import mean_squared_error,r2_score,mean_absolute_error\n",
    "from sklearn.ensemble import RandomForestRegressor\n",
    "from sklearn.linear_model import LinearRegression\n",
    "from sklearn.ensemble import GradientBoostingRegressor\n",
    "from sklearn.ensemble import AdaBoostRegressor\n",
    "from xgboost import XGBRegressor\n",
    "from sklearn.tree import DecisionTreeRegressor"
   ]
  },
  {
   "cell_type": "code",
   "execution_count": 86,
   "id": "2c90302a",
   "metadata": {
    "execution": {
     "iopub.execute_input": "2023-03-16T13:24:22.947312Z",
     "iopub.status.busy": "2023-03-16T13:24:22.946781Z",
     "iopub.status.idle": "2023-03-16T13:24:22.956228Z",
     "shell.execute_reply": "2023-03-16T13:24:22.954487Z"
    },
    "papermill": {
     "duration": 0.055974,
     "end_time": "2023-03-16T13:24:22.959152",
     "exception": false,
     "start_time": "2023-03-16T13:24:22.903178",
     "status": "completed"
    },
    "tags": []
   },
   "outputs": [],
   "source": [
    "def get_accuracy(model_name):\n",
    "    model         = model_name\n",
    "    model.fit(X_train,Y_train)\n",
    "    Y_pred_train  = model.predict(X_train)\n",
    "    mse_train     = mean_squared_error(Y_train,Y_pred_train)\n",
    "    mae_train     = mean_absolute_error(Y_train,Y_pred_train)\n",
    "    r2score_train = r2_score(Y_train,Y_pred_train)*100\n",
    "    \n",
    "    Y_pred_test   = model.predict(X_test)\n",
    "    mse_test      = mean_squared_error(Y_test,Y_pred_test)\n",
    "    mae_test      = mean_absolute_error(Y_test,Y_pred_test)\n",
    "    r2score_test = r2_score(Y_test,Y_pred_test)*100\n",
    "    \n",
    "    return print(f\"mse_train {mse_train} \\nmae_train {mae_train} \\nr2score_train {r2score_train} \\nmse_test {mse_test} \\nmae_test {mae_test} \\nr2score_test {r2score_test}\")"
   ]
  },
  {
   "cell_type": "code",
   "execution_count": 87,
   "id": "05c1279f",
   "metadata": {
    "execution": {
     "iopub.execute_input": "2023-03-16T13:24:23.047114Z",
     "iopub.status.busy": "2023-03-16T13:24:23.045496Z",
     "iopub.status.idle": "2023-03-16T13:25:13.650144Z",
     "shell.execute_reply": "2023-03-16T13:25:13.648381Z"
    },
    "papermill": {
     "duration": 50.652992,
     "end_time": "2023-03-16T13:25:13.653853",
     "exception": false,
     "start_time": "2023-03-16T13:24:23.000861",
     "status": "completed"
    },
    "tags": []
   },
   "outputs": [
    {
     "name": "stdout",
     "output_type": "stream",
     "text": [
      "LinearRegression\n",
      "mse_train 5.171971753649231 \n",
      "mae_train 1.7685825418972967 \n",
      "r2score_train 12.544679844890606 \n",
      "mse_test 5.148788917180045 \n",
      "mae_test 1.7648673963299142 \n",
      "r2score_test 12.559073409417055\n",
      "None\n",
      "****************************************************************************************************\n",
      "DecisionTreeRegressor\n",
      "mse_train 3.437005276802332 \n",
      "mae_train 1.3863115968628543 \n",
      "r2score_train 41.88204979165586 \n",
      "mse_test 3.4604189746744702 \n",
      "mae_test 1.3935883009847607 \n",
      "r2score_test 41.232346789836406\n",
      "None\n",
      "****************************************************************************************************\n",
      "RandomForestRegressor\n",
      "mse_train 3.4373117208402117 \n",
      "mae_train 1.3863929436981313 \n",
      "r2score_train 41.87686798426809 \n",
      "mse_test 3.460117071001242 \n",
      "mae_test 1.3936391005762137 \n",
      "r2score_test 41.237473963887005\n",
      "None\n",
      "****************************************************************************************************\n",
      "XGBRegressor\n",
      "mse_train 3.4463192271015743 \n",
      "mae_train 1.3908381143143385 \n",
      "r2score_train 41.72455579437053 \n",
      "mse_test 3.443054452834571 \n",
      "mae_test 1.3922834124646393 \n",
      "r2score_test 41.52724524147361\n",
      "None\n",
      "****************************************************************************************************\n",
      "AdaBoostRegressor\n",
      "mse_train 3.7331325287518613 \n",
      "mae_train 1.4475353874941173 \n",
      "r2score_train 36.874693823861605 \n",
      "mse_test 3.709759393359396 \n",
      "mae_test 1.4463595840963537 \n",
      "r2score_test 36.99784473566501\n",
      "None\n",
      "****************************************************************************************************\n",
      "GradientBoostingRegressor\n",
      "mse_train 3.4929616675831787 \n",
      "mae_train 1.409655478369909 \n",
      "r2score_train 40.9358566754598 \n",
      "mse_test 3.460927398510033 \n",
      "mae_test 1.404439677464213 \n",
      "r2score_test 41.223712322198004\n",
      "None\n",
      "****************************************************************************************************\n"
     ]
    }
   ],
   "source": [
    "for model_name,model in [(\"LinearRegression\",LinearRegression()),(\"DecisionTreeRegressor\",DecisionTreeRegressor()),(\"RandomForestRegressor\",RandomForestRegressor()),(\"XGBRegressor\",XGBRegressor()),(\"AdaBoostRegressor\",AdaBoostRegressor()),(\"GradientBoostingRegressor\",GradientBoostingRegressor())]:\n",
    "    print(model_name)\n",
    "    print(get_accuracy(model))\n",
    "    print(\"*\"*100)"
   ]
  }
 ],
 "metadata": {
  "kernelspec": {
   "display_name": "Python 3",
   "language": "python",
   "name": "python3"
  },
  "language_info": {
   "codemirror_mode": {
    "name": "ipython",
    "version": 3
   },
   "file_extension": ".py",
   "mimetype": "text/x-python",
   "name": "python",
   "nbconvert_exporter": "python",
   "pygments_lexer": "ipython3",
   "version": "3.7.12"
  },
  "papermill": {
   "default_parameters": {},
   "duration": 99.668816,
   "end_time": "2023-03-16T13:25:14.920466",
   "environment_variables": {},
   "exception": null,
   "input_path": "__notebook__.ipynb",
   "output_path": "__notebook__.ipynb",
   "parameters": {},
   "start_time": "2023-03-16T13:23:35.251650",
   "version": "2.4.0"
  }
 },
 "nbformat": 4,
 "nbformat_minor": 5
}
